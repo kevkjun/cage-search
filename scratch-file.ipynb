{
 "cells": [
  {
   "cell_type": "markdown",
   "metadata": {},
   "source": [
    "# scratch work for building cage recommendation model"
   ]
  },
  {
   "cell_type": "markdown",
   "metadata": {},
   "source": [
    "### Spellchecker using NLTK SpellChecker"
   ]
  },
  {
   "cell_type": "code",
   "execution_count": 7,
   "metadata": {},
   "outputs": [
    {
     "name": "stdout",
     "output_type": "stream",
     "text": [
      "happening\n"
     ]
    }
   ],
   "source": [
    "# spell correction\n",
    "import numpy as np\n",
    "from spellchecker import SpellChecker\n",
    "%config IPCompleter.greedy=True\n",
    "\n",
    "spell = SpellChecker()\n",
    "\n",
    "misspelled = spell.unknown(['something', 'is', 'happennning', 'here'])\n",
    "\n",
    "for word in misspelled:\n",
    "    print(spell.correction(word))"
   ]
  },
  {
   "cell_type": "markdown",
   "metadata": {},
   "source": [
    "### Synonym generator using NLTK Corpus"
   ]
  },
  {
   "cell_type": "markdown",
   "metadata": {},
   "source": [
    "```python\n",
    "# install NLTK modules\n",
    "import nltk\n",
    "nltk.download()\n",
    "```"
   ]
  },
  {
   "cell_type": "code",
   "execution_count": 8,
   "metadata": {
    "scrolled": true
   },
   "outputs": [
    {
     "name": "stdout",
     "output_type": "stream",
     "text": [
      "Definition: roused to anger; - Mark Twain\n",
      "huffy\n",
      "mad\n",
      "sore\n",
      "\n",
      "\n",
      "Definition: affected with madness or insanity\n",
      "brainsick\n",
      "crazy\n",
      "demented\n",
      "disturbed\n",
      "mad\n",
      "sick\n",
      "unbalanced\n",
      "unhinged\n",
      "\n",
      "\n",
      "Definition: marked by uncontrolled excitement or emotion\n",
      "delirious\n",
      "excited\n",
      "frantic\n",
      "mad\n",
      "unrestrained\n",
      "\n",
      "\n",
      "Definition: very foolish\n",
      "harebrained\n",
      "insane\n",
      "mad\n",
      "\n",
      "\n"
     ]
    }
   ],
   "source": [
    "# identifying synonyms\n",
    "from nltk.corpus import wordnet as wn\n",
    "\n",
    "for syn in wn.synsets('mad'):\n",
    "    print(\"Definition: \" + syn.definition())\n",
    "    for l in syn.lemmas():\n",
    "        print(l.name())\n",
    "    print('\\n')"
   ]
  },
  {
   "cell_type": "markdown",
   "metadata": {},
   "source": [
    "### Begin wrangling data and combining the datasets"
   ]
  },
  {
   "cell_type": "code",
   "execution_count": 10,
   "metadata": {},
   "outputs": [],
   "source": [
    "# import data files\n",
    "import pandas as pd\n",
    "\n",
    "### don't need to import anymore after creating cage_movies filtered csv\n",
    "# genome_tags = pd.read_csv(\"data/genome-tags.csv\")\n",
    "# genome_scores = pd.read_csv(\"data/genome-scores.csv\")\n",
    "# cage_movies = pd.read_csv(\"data/nic-cage.csv\")\n",
    "# movies = pd.read_csv(\"data/movies.csv\")\n",
    "\n",
    "tags = pd.read_csv(\"data/tags.csv\")\n",
    "ratings = pd.read_csv(\"data/ratings.csv\")"
   ]
  },
  {
   "cell_type": "code",
   "execution_count": 11,
   "metadata": {
    "scrolled": true
   },
   "outputs": [],
   "source": [
    "# get rid of the year information from the title because already contained in cage_movies.csv\n",
    "res = movies['title'].str.replace(' \\([0-9]*\\)$', '', regex = True)\n",
    "movies['title_trimmed'] = res\n",
    "\n",
    "# remove the trailing space for the movie title\n",
    "movies = movies.applymap(lambda x: str(x).rstrip())\n",
    "\n",
    "# get the \", The\" at the end of movies[title] and append to front\n",
    "movies.loc[movies['title_trimmed'].str.contains(', The$'),'title_trimmed'] = 'The ' + movies['title_trimmed']\n",
    "movies['title_trimmed'] = movies['title_trimmed'].str.replace(', The$', '', regex = True)\n",
    "movies['title_trimmed'] = movies['title_trimmed'].str.replace(',The$', '', regex = True)\n",
    "\n",
    "# remove the trailing space for the movie title\n",
    "movies = movies.applymap(lambda x: str(x).rstrip())\n",
    "\n",
    "# \"Sorcerer's Apprentice\" is misspelled 'Sorceror'\n",
    "cage_movies['Movie'] = cage_movies['Movie'].str.replace('Sorceror', 'Sorcerer')\n",
    "\n",
    "# Remove period from \"Adaption.\"\n",
    "cage_movies['Movie'] = cage_movies['Movie'].str.replace('Adaptation.', 'Adaptation', regex = False)\n",
    "\n",
    "# \"Gone in 60 Seconds\" is spelled out 'Sixty' in cage_movies\n",
    "cage_movies['Movie'] = cage_movies['Movie'].str.replace('Sixty', '60')\n",
    "\n",
    "# \"Amos & Andrew\" is spelled \"Amos and Andrew\" in cage_movies\n",
    "cage_movies['Movie'] = cage_movies['Movie'].str.replace('Amos and', 'Amos &')\n",
    "\n",
    "# \"Time to Kill\" needs the Italian suffix in cage_movies\n",
    "cage_movies['Movie'] = cage_movies['Movie'].str.replace('Time to Kill', 'Time to Kill (Tempo di uccidere)')\n",
    "\n",
    "# \"Best of Times\" needs 'The ' prefixed in cage_movies\n",
    "cage_movies['Movie'] = cage_movies['Movie'].str.replace('Best of Times', 'The Best of Times')"
   ]
  },
  {
   "cell_type": "code",
   "execution_count": 12,
   "metadata": {},
   "outputs": [],
   "source": [
    "# left join the movie information to the cage_movies dataset using title as key\n",
    "cage_movies.Movie = cage_movies.Movie.astype(str)\n",
    "movies.title = movies.title.astype(str)\n",
    "cage = pd.merge(cage_movies, movies, left_on = 'Movie', right_on = 'title_trimmed', how = 'left')"
   ]
  },
  {
   "cell_type": "code",
   "execution_count": 13,
   "metadata": {},
   "outputs": [
    {
     "name": "stdout",
     "output_type": "stream",
     "text": [
      "               Movie Rating              Character  Voice  Year  \\\n",
      "99  Never on Tuesday      R  Man in Red Sports Car      0  1989   \n",
      "\n",
      "   RottenTomatoes movieId title genres title_trimmed  \n",
      "99              X     NaN   NaN    NaN           NaN  \n"
     ]
    }
   ],
   "source": [
    "# check for NaN values\n",
    "null_columns = cage.columns[cage.isnull().any()]\n",
    "print(cage[cage.isnull().any(axis=1)])\n",
    "\n",
    "# Never on Tuesday is NA but it isn't included in the movies dataset so delete it from entire dataset\n",
    "cage = cage.dropna()\n",
    "cage = cage.drop(columns = ['title', 'title_trimmed'])"
   ]
  },
  {
   "cell_type": "code",
   "execution_count": 14,
   "metadata": {},
   "outputs": [
    {
     "data": {
      "text/plain": [
       "(262762, 4)"
      ]
     },
     "execution_count": 14,
     "metadata": {},
     "output_type": "execute_result"
    }
   ],
   "source": [
    "# filter ratings to only cage movies by merging with cage df\n",
    "ratings.shape #(25,000,095, 4)\n",
    "keys = list(cage['movieId'].values) # create list of Cage movieId\n",
    "ratings_cage = ratings[ratings.movieId.isin(keys)] # filter to only cage movies\n",
    "ratings_cage.shape #(262,762, 4)"
   ]
  },
  {
   "cell_type": "code",
   "execution_count": 16,
   "metadata": {},
   "outputs": [
    {
     "name": "stderr",
     "output_type": "stream",
     "text": [
      "/Users/Kevin/opt/anaconda3/lib/python3.7/site-packages/pandas/core/generic.py:5302: SettingWithCopyWarning: \n",
      "A value is trying to be set on a copy of a slice from a DataFrame.\n",
      "Try using .loc[row_indexer,col_indexer] = value instead\n",
      "\n",
      "See the caveats in the documentation: https://pandas.pydata.org/pandas-docs/stable/user_guide/indexing.html#returning-a-view-versus-a-copy\n",
      "  self[name] = value\n"
     ]
    }
   ],
   "source": [
    "# case movieId to int\n",
    "cage.movieId = cage.movieId.astype(int)\n",
    "ratings_cage.movieId = ratings_cage.movieId.astype(int)\n",
    "\n",
    "# import the names of movies to cage_ratings\n",
    "ratings_cage = pd.merge(ratings_cage, cage[['movieId','Movie', 'Year', 'RottenTomatoes']], on = 'movieId', how = 'left')"
   ]
  },
  {
   "cell_type": "code",
   "execution_count": 22,
   "metadata": {},
   "outputs": [],
   "source": [
    "# set types for ratings_cage\n",
    "ratings_cage.Movie = ratings_cage.Movie.astype(str)\n",
    "\n",
    "# export cage ratings to csv\n",
    "path = '/Users/Kevin/cage-search/data/cage_ratings.csv'\n",
    "ratings_cage.to_csv(path, index = False)"
   ]
  },
  {
   "cell_type": "code",
   "execution_count": 23,
   "metadata": {},
   "outputs": [],
   "source": [
    "# import cage_ratings\n",
    "cage_ratings = pd.read_csv('data/cage_ratings.csv')"
   ]
  },
  {
   "cell_type": "code",
   "execution_count": 24,
   "metadata": {},
   "outputs": [],
   "source": [
    "# merge cage with genome_scores to get associated genome_tags\n",
    "genome_scores.movieId = genome_scores.movieId.astype(int)\n",
    "cage_merge = pd.merge(cage, genome_scores, on = 'movieId', how = 'inner')\n",
    "\n",
    "# get rid of suffix for the join columns\n",
    "cage_merge.rename(columns={\"tagId_x\": \"tagId\", \"relevance_x\": \"relevance\"})\n",
    "\n",
    "# merge with genome_tags to get descriptors\n",
    "cage_merge.tagId = cage_merge.tagId.astype(int)\n",
    "genome_tags.tagId = genome_tags.tagId.astype(int)\n",
    "\n",
    "# merge\n",
    "cage = pd.merge(cage_merge, genome_tags, on = 'tagId', how = 'inner')\n",
    "\n",
    "# rename the tags column as genome_tags not to get mixed up \n",
    "# with tags column from tags.csv\n",
    "cage = cage.rename(columns ={\"tag\": \"genome_tag\"})\n",
    "\n",
    "# cast tag as string\n",
    "cage.genome_tag = cage.genome_tag.astype(str)"
   ]
  },
  {
   "cell_type": "code",
   "execution_count": 25,
   "metadata": {},
   "outputs": [
    {
     "data": {
      "text/html": [
       "<div>\n",
       "<style scoped>\n",
       "    .dataframe tbody tr th:only-of-type {\n",
       "        vertical-align: middle;\n",
       "    }\n",
       "\n",
       "    .dataframe tbody tr th {\n",
       "        vertical-align: top;\n",
       "    }\n",
       "\n",
       "    .dataframe thead th {\n",
       "        text-align: right;\n",
       "    }\n",
       "</style>\n",
       "<table border=\"1\" class=\"dataframe\">\n",
       "  <thead>\n",
       "    <tr style=\"text-align: right;\">\n",
       "      <th></th>\n",
       "      <th>Movie</th>\n",
       "      <th>Rating</th>\n",
       "      <th>Character</th>\n",
       "      <th>Voice</th>\n",
       "      <th>Year</th>\n",
       "      <th>RottenTomatoes</th>\n",
       "      <th>movieId</th>\n",
       "      <th>genres</th>\n",
       "      <th>tagId</th>\n",
       "      <th>relevance</th>\n",
       "      <th>genome_tag</th>\n",
       "    </tr>\n",
       "  </thead>\n",
       "  <tbody>\n",
       "    <tr>\n",
       "      <th>35587</th>\n",
       "      <td>Drive Angry</td>\n",
       "      <td>R</td>\n",
       "      <td>Milton</td>\n",
       "      <td>0</td>\n",
       "      <td>2011</td>\n",
       "      <td>47</td>\n",
       "      <td>84942</td>\n",
       "      <td>Action|Fantasy|Thriller</td>\n",
       "      <td>457</td>\n",
       "      <td>1.00000</td>\n",
       "      <td>goretastic</td>\n",
       "    </tr>\n",
       "    <tr>\n",
       "      <th>81393</th>\n",
       "      <td>National Treasure</td>\n",
       "      <td>PG</td>\n",
       "      <td>Benjamin Franklin Gates</td>\n",
       "      <td>0</td>\n",
       "      <td>2004</td>\n",
       "      <td>45</td>\n",
       "      <td>8972</td>\n",
       "      <td>Action|Adventure|Drama|Mystery|Thriller</td>\n",
       "      <td>1044</td>\n",
       "      <td>0.99975</td>\n",
       "      <td>treasure hunt</td>\n",
       "    </tr>\n",
       "    <tr>\n",
       "      <th>17464</th>\n",
       "      <td>Raising Arizona</td>\n",
       "      <td>PG-13</td>\n",
       "      <td>H.I. McDunnough</td>\n",
       "      <td>0</td>\n",
       "      <td>1987</td>\n",
       "      <td>91</td>\n",
       "      <td>1394</td>\n",
       "      <td>Comedy</td>\n",
       "      <td>224</td>\n",
       "      <td>0.99950</td>\n",
       "      <td>coen bros</td>\n",
       "    </tr>\n",
       "    <tr>\n",
       "      <th>8378</th>\n",
       "      <td>Ghost Rider</td>\n",
       "      <td>PG-13</td>\n",
       "      <td>Johnny Blaze and Ghost Rider</td>\n",
       "      <td>0</td>\n",
       "      <td>2007</td>\n",
       "      <td>27</td>\n",
       "      <td>51077</td>\n",
       "      <td>Action|Fantasy|Thriller</td>\n",
       "      <td>108</td>\n",
       "      <td>0.99925</td>\n",
       "      <td>based on a comic</td>\n",
       "    </tr>\n",
       "    <tr>\n",
       "      <th>81383</th>\n",
       "      <td>National Treasure: Book of Secrets</td>\n",
       "      <td>PG</td>\n",
       "      <td>Benjamin Franklin Gates</td>\n",
       "      <td>0</td>\n",
       "      <td>2007</td>\n",
       "      <td>35</td>\n",
       "      <td>56775</td>\n",
       "      <td>Action|Adventure</td>\n",
       "      <td>1044</td>\n",
       "      <td>0.99925</td>\n",
       "      <td>treasure hunt</td>\n",
       "    </tr>\n",
       "    <tr>\n",
       "      <th>69870</th>\n",
       "      <td>Guarding Tess</td>\n",
       "      <td>PG-13</td>\n",
       "      <td>Doug Chesnic</td>\n",
       "      <td>0</td>\n",
       "      <td>1994</td>\n",
       "      <td>56</td>\n",
       "      <td>6992</td>\n",
       "      <td>Comedy|Drama</td>\n",
       "      <td>896</td>\n",
       "      <td>0.99900</td>\n",
       "      <td>secret service</td>\n",
       "    </tr>\n",
       "    <tr>\n",
       "      <th>76940</th>\n",
       "      <td>Ghost Rider</td>\n",
       "      <td>PG-13</td>\n",
       "      <td>Johnny Blaze and Ghost Rider</td>\n",
       "      <td>0</td>\n",
       "      <td>2007</td>\n",
       "      <td>27</td>\n",
       "      <td>51077</td>\n",
       "      <td>Action|Fantasy|Thriller</td>\n",
       "      <td>987</td>\n",
       "      <td>0.99850</td>\n",
       "      <td>super hero</td>\n",
       "    </tr>\n",
       "    <tr>\n",
       "      <th>14398</th>\n",
       "      <td>Gone in 60 Seconds</td>\n",
       "      <td>PG-13</td>\n",
       "      <td>Memphis Raines</td>\n",
       "      <td>0</td>\n",
       "      <td>2000</td>\n",
       "      <td>25</td>\n",
       "      <td>3717</td>\n",
       "      <td>Action|Crime</td>\n",
       "      <td>185</td>\n",
       "      <td>0.99825</td>\n",
       "      <td>cars</td>\n",
       "    </tr>\n",
       "    <tr>\n",
       "      <th>48115</th>\n",
       "      <td>Wild at Heart</td>\n",
       "      <td>R</td>\n",
       "      <td>Sailor Ripley</td>\n",
       "      <td>0</td>\n",
       "      <td>1990</td>\n",
       "      <td>65</td>\n",
       "      <td>7044</td>\n",
       "      <td>Crime|Drama|Mystery|Romance|Thriller</td>\n",
       "      <td>617</td>\n",
       "      <td>0.99825</td>\n",
       "      <td>lynch</td>\n",
       "    </tr>\n",
       "    <tr>\n",
       "      <th>77086</th>\n",
       "      <td>Kick-Ass</td>\n",
       "      <td>R</td>\n",
       "      <td>Damon Macready and Big Daddy</td>\n",
       "      <td>0</td>\n",
       "      <td>2010</td>\n",
       "      <td>75</td>\n",
       "      <td>76251</td>\n",
       "      <td>Action|Comedy</td>\n",
       "      <td>989</td>\n",
       "      <td>0.99800</td>\n",
       "      <td>superhero</td>\n",
       "    </tr>\n",
       "  </tbody>\n",
       "</table>\n",
       "</div>"
      ],
      "text/plain": [
       "                                    Movie Rating  \\\n",
       "35587                         Drive Angry      R   \n",
       "81393                   National Treasure     PG   \n",
       "17464                     Raising Arizona  PG-13   \n",
       "8378                          Ghost Rider  PG-13   \n",
       "81383  National Treasure: Book of Secrets     PG   \n",
       "69870                       Guarding Tess  PG-13   \n",
       "76940                         Ghost Rider  PG-13   \n",
       "14398                  Gone in 60 Seconds  PG-13   \n",
       "48115                       Wild at Heart      R   \n",
       "77086                            Kick-Ass      R   \n",
       "\n",
       "                          Character  Voice  Year RottenTomatoes  movieId  \\\n",
       "35587                        Milton      0  2011             47    84942   \n",
       "81393       Benjamin Franklin Gates      0  2004             45     8972   \n",
       "17464               H.I. McDunnough      0  1987             91     1394   \n",
       "8378   Johnny Blaze and Ghost Rider      0  2007             27    51077   \n",
       "81383       Benjamin Franklin Gates      0  2007             35    56775   \n",
       "69870                  Doug Chesnic      0  1994             56     6992   \n",
       "76940  Johnny Blaze and Ghost Rider      0  2007             27    51077   \n",
       "14398                Memphis Raines      0  2000             25     3717   \n",
       "48115                 Sailor Ripley      0  1990             65     7044   \n",
       "77086  Damon Macready and Big Daddy      0  2010             75    76251   \n",
       "\n",
       "                                        genres  tagId  relevance  \\\n",
       "35587                  Action|Fantasy|Thriller    457    1.00000   \n",
       "81393  Action|Adventure|Drama|Mystery|Thriller   1044    0.99975   \n",
       "17464                                   Comedy    224    0.99950   \n",
       "8378                   Action|Fantasy|Thriller    108    0.99925   \n",
       "81383                         Action|Adventure   1044    0.99925   \n",
       "69870                             Comedy|Drama    896    0.99900   \n",
       "76940                  Action|Fantasy|Thriller    987    0.99850   \n",
       "14398                             Action|Crime    185    0.99825   \n",
       "48115     Crime|Drama|Mystery|Romance|Thriller    617    0.99825   \n",
       "77086                            Action|Comedy    989    0.99800   \n",
       "\n",
       "             genome_tag  \n",
       "35587        goretastic  \n",
       "81393     treasure hunt  \n",
       "17464         coen bros  \n",
       "8378   based on a comic  \n",
       "81383     treasure hunt  \n",
       "69870    secret service  \n",
       "76940        super hero  \n",
       "14398              cars  \n",
       "48115             lynch  \n",
       "77086         superhero  "
      ]
     },
     "execution_count": 25,
     "metadata": {},
     "output_type": "execute_result"
    }
   ],
   "source": [
    "# check the largest values for relevance to see if they match up well with the movies\n",
    "cage.nlargest(10, 'relevance')"
   ]
  },
  {
   "cell_type": "code",
   "execution_count": 26,
   "metadata": {},
   "outputs": [],
   "source": [
    "# export dataset to csv file in the /data/ directory\n",
    "# import os\n",
    "# import sys\n",
    "\n",
    "# # hoops to jump through to get relative working directory\n",
    "# abs_dir = sys.path[0]\n",
    "# rel_dir = os.path.join(abs_dir, '../data')\n",
    "# data = ''.join([rel_dir, '/cage_movies.csv'])\n",
    "\n",
    "# # export to csv\n",
    "# cage.to_csv(data, index = False)\n",
    "\n",
    "path = '/Users/Kevin/cage-search/data/cage_movies.csv'\n",
    "cage.to_csv(path, index = False)"
   ]
  },
  {
   "cell_type": "code",
   "execution_count": 27,
   "metadata": {},
   "outputs": [],
   "source": [
    "# import cage_movies as movs so as to not have to work with huge files\n",
    "movs = pd.read_csv('data/cage_movies.csv')"
   ]
  },
  {
   "cell_type": "code",
   "execution_count": 28,
   "metadata": {},
   "outputs": [
    {
     "data": {
      "text/html": [
       "<div>\n",
       "<style scoped>\n",
       "    .dataframe tbody tr th:only-of-type {\n",
       "        vertical-align: middle;\n",
       "    }\n",
       "\n",
       "    .dataframe tbody tr th {\n",
       "        vertical-align: top;\n",
       "    }\n",
       "\n",
       "    .dataframe thead th {\n",
       "        text-align: right;\n",
       "    }\n",
       "</style>\n",
       "<table border=\"1\" class=\"dataframe\">\n",
       "  <thead>\n",
       "    <tr style=\"text-align: right;\">\n",
       "      <th></th>\n",
       "      <th>userId</th>\n",
       "      <th>movieId</th>\n",
       "      <th>rating</th>\n",
       "      <th>timestamp</th>\n",
       "      <th>Movie</th>\n",
       "      <th>Year</th>\n",
       "      <th>RottenTomatoes</th>\n",
       "    </tr>\n",
       "  </thead>\n",
       "  <tbody>\n",
       "    <tr>\n",
       "      <th>0</th>\n",
       "      <td>2</td>\n",
       "      <td>733</td>\n",
       "      <td>4.5</td>\n",
       "      <td>1141415905</td>\n",
       "      <td>The Rock</td>\n",
       "      <td>1996</td>\n",
       "      <td>66</td>\n",
       "    </tr>\n",
       "    <tr>\n",
       "      <th>1</th>\n",
       "      <td>2</td>\n",
       "      <td>4023</td>\n",
       "      <td>3.0</td>\n",
       "      <td>1141417651</td>\n",
       "      <td>The Family Man</td>\n",
       "      <td>2000</td>\n",
       "      <td>53</td>\n",
       "    </tr>\n",
       "    <tr>\n",
       "      <th>2</th>\n",
       "      <td>3</td>\n",
       "      <td>4023</td>\n",
       "      <td>4.0</td>\n",
       "      <td>1439473162</td>\n",
       "      <td>The Family Man</td>\n",
       "      <td>2000</td>\n",
       "      <td>53</td>\n",
       "    </tr>\n",
       "    <tr>\n",
       "      <th>3</th>\n",
       "      <td>3</td>\n",
       "      <td>6708</td>\n",
       "      <td>4.0</td>\n",
       "      <td>1566090171</td>\n",
       "      <td>Matchstick Men</td>\n",
       "      <td>2003</td>\n",
       "      <td>82</td>\n",
       "    </tr>\n",
       "    <tr>\n",
       "      <th>4</th>\n",
       "      <td>3</td>\n",
       "      <td>36529</td>\n",
       "      <td>4.0</td>\n",
       "      <td>1453904094</td>\n",
       "      <td>Lord of War</td>\n",
       "      <td>2005</td>\n",
       "      <td>62</td>\n",
       "    </tr>\n",
       "  </tbody>\n",
       "</table>\n",
       "</div>"
      ],
      "text/plain": [
       "   userId  movieId  rating   timestamp           Movie  Year RottenTomatoes\n",
       "0       2      733     4.5  1141415905        The Rock  1996             66\n",
       "1       2     4023     3.0  1141417651  The Family Man  2000             53\n",
       "2       3     4023     4.0  1439473162  The Family Man  2000             53\n",
       "3       3     6708     4.0  1566090171  Matchstick Men  2003             82\n",
       "4       3    36529     4.0  1453904094     Lord of War  2005             62"
      ]
     },
     "execution_count": 28,
     "metadata": {},
     "output_type": "execute_result"
    }
   ],
   "source": []
  },
  {
   "cell_type": "code",
   "execution_count": null,
   "metadata": {},
   "outputs": [],
   "source": []
  }
 ],
 "metadata": {
  "kernelspec": {
   "display_name": "Python 3",
   "language": "python",
   "name": "python3"
  },
  "language_info": {
   "codemirror_mode": {
    "name": "ipython",
    "version": 3
   },
   "file_extension": ".py",
   "mimetype": "text/x-python",
   "name": "python",
   "nbconvert_exporter": "python",
   "pygments_lexer": "ipython3",
   "version": "3.7.5"
  }
 },
 "nbformat": 4,
 "nbformat_minor": 4
}
