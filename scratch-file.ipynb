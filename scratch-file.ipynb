{
 "cells": [
  {
   "cell_type": "code",
   "execution_count": 14,
   "metadata": {},
   "outputs": [
    {
     "name": "stdout",
     "output_type": "stream",
     "text": [
      "happening\n"
     ]
    }
   ],
   "source": [
    "import numpy as np\n",
    "from spellchecker import SpellChecker\n",
    "\n",
    "spell = SpellChecker()\n",
    "\n",
    "misspelled = spell.unknown(['something', 'is', 'happennning', 'here'])\n",
    "\n",
    "for word in misspelled:\n",
    "    print(spell.correction(word))"
   ]
  },
  {
   "cell_type": "code",
   "execution_count": 33,
   "metadata": {
    "scrolled": true
   },
   "outputs": [
    {
     "name": "stdout",
     "output_type": "stream",
     "text": [
      "Definition: roused to anger; - Mark Twain\n",
      "huffy\n",
      "mad\n",
      "sore\n",
      "\n",
      "\n",
      "Definition: affected with madness or insanity\n",
      "brainsick\n",
      "crazy\n",
      "demented\n",
      "disturbed\n",
      "mad\n",
      "sick\n",
      "unbalanced\n",
      "unhinged\n",
      "\n",
      "\n",
      "Definition: marked by uncontrolled excitement or emotion\n",
      "delirious\n",
      "excited\n",
      "frantic\n",
      "mad\n",
      "unrestrained\n",
      "\n",
      "\n",
      "Definition: very foolish\n",
      "harebrained\n",
      "insane\n",
      "mad\n",
      "\n",
      "\n"
     ]
    }
   ],
   "source": [
    "from nltk.corpus import wordnet as wn\n",
    "\n",
    "for syn in wn.synsets('mad'):\n",
    "    print(\"Definition: \" + syn.definition())\n",
    "    for l in syn.lemmas():\n",
    "        print(l.name())\n",
    "    print('\\n')"
   ]
  },
  {
   "cell_type": "code",
   "execution_count": null,
   "metadata": {},
   "outputs": [],
   "source": []
  },
  {
   "cell_type": "code",
   "execution_count": null,
   "metadata": {},
   "outputs": [],
   "source": []
  },
  {
   "cell_type": "code",
   "execution_count": null,
   "metadata": {},
   "outputs": [],
   "source": []
  }
 ],
 "metadata": {
  "kernelspec": {
   "display_name": "Python 3",
   "language": "python",
   "name": "python3"
  },
  "language_info": {
   "codemirror_mode": {
    "name": "ipython",
    "version": 3
   },
   "file_extension": ".py",
   "mimetype": "text/x-python",
   "name": "python",
   "nbconvert_exporter": "python",
   "pygments_lexer": "ipython3",
   "version": "3.7.5"
  }
 },
 "nbformat": 4,
 "nbformat_minor": 4
}
