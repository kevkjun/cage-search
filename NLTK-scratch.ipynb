{
 "cells": [
  {
   "cell_type": "markdown",
   "metadata": {},
   "source": [
    "# scratch work for NLTK methods"
   ]
  },
  {
   "cell_type": "markdown",
   "metadata": {},
   "source": [
    "### Spellchecker using NLTK SpellChecker"
   ]
  },
  {
   "cell_type": "code",
   "execution_count": 7,
   "metadata": {},
   "outputs": [
    {
     "name": "stdout",
     "output_type": "stream",
     "text": [
      "happening\n"
     ]
    }
   ],
   "source": [
    "# spell correction\n",
    "import numpy as np\n",
    "from spellchecker import SpellChecker\n",
    "%config IPCompleter.greedy=True\n",
    "\n",
    "spell = SpellChecker()\n",
    "\n",
    "misspelled = spell.unknown(['something', 'is', 'happennning', 'here'])\n",
    "\n",
    "for word in misspelled:\n",
    "    print(spell.correction(word))"
   ]
  },
  {
   "cell_type": "markdown",
   "metadata": {},
   "source": [
    "### Synonym generator using NLTK Corpus"
   ]
  },
  {
   "cell_type": "markdown",
   "metadata": {},
   "source": [
    "```python\n",
    "# install NLTK modules\n",
    "import nltk\n",
    "nltk.download()\n",
    "```"
   ]
  },
  {
   "cell_type": "code",
   "execution_count": null,
   "metadata": {},
   "outputs": [],
   "source": [
    "# identifying synonyms\n",
    "from nltk.corpus import wordnet as wn\n",
    "\n",
    "for syn in wn.synsets('mad'):\n",
    "    print(\"Definition: \" + syn.definition())\n",
    "    for l in syn.lemmas():\n",
    "        print(l.name())\n",
    "    print('\\n')"
   ]
  },
  {
   "cell_type": "code",
   "execution_count": null,
   "metadata": {},
   "outputs": [],
   "source": []
  }
 ],
 "metadata": {
  "kernelspec": {
   "display_name": "Python 3",
   "language": "python",
   "name": "python3"
  },
  "language_info": {
   "codemirror_mode": {
    "name": "ipython",
    "version": 3
   },
   "file_extension": ".py",
   "mimetype": "text/x-python",
   "name": "python",
   "nbconvert_exporter": "python",
   "pygments_lexer": "ipython3",
   "version": "3.7.5"
  }
 },
 "nbformat": 4,
 "nbformat_minor": 4
}
