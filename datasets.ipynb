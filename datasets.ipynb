{
 "cells": [
  {
   "cell_type": "markdown",
   "metadata": {},
   "source": [
    "# Creating dataframes/csv to work with"
   ]
  },
  {
   "cell_type": "markdown",
   "metadata": {},
   "source": [
    "## Begin wrangling data and combining the datasets"
   ]
  },
  {
   "cell_type": "code",
   "execution_count": 1,
   "metadata": {},
   "outputs": [],
   "source": [
    "import pandas as pd\n",
    "import numpy as np"
   ]
  },
  {
   "cell_type": "code",
   "execution_count": 75,
   "metadata": {},
   "outputs": [],
   "source": [
    "# import raw datasets\n",
    "genome_tags = pd.read_csv(\"data/genome-tags.csv\")\n",
    "genome_scores = pd.read_csv(\"data/genome-scores.csv\")\n",
    "cage_movies = pd.read_csv(\"data/nic-cage.csv\")\n",
    "movies = pd.read_csv(\"data/movies.csv\")\n",
    "\n",
    "tags = pd.read_csv(\"data/tags.csv\")\n",
    "ratings = pd.read_csv(\"data/ratings.csv\")"
   ]
  },
  {
   "cell_type": "markdown",
   "metadata": {},
   "source": [
    "## Standardizing and fitting cage_movies titles and matching them to movieId in MovieLens dataset"
   ]
  },
  {
   "cell_type": "code",
   "execution_count": 86,
   "metadata": {},
   "outputs": [
    {
     "output_type": "execute_result",
     "data": {
      "text/plain": "0                          Toy Story\n1                            Jumanji\n2                   Grumpier Old Men\n3                  Waiting to Exhale\n4        Father of the Bride Part II\n                    ...             \n62418                             We\n62419             Window of the Soul\n62420                      Bad Poems\n62421                   A Girl Thing\n62422        Women of Devil's Island\nName: title, Length: 62423, dtype: object"
     },
     "metadata": {},
     "execution_count": 86
    }
   ],
   "source": [
    "# remove trailing spaces in entire dataframe\n",
    "movies = movies.applymap(lambda x: str(x).rstrip())\n",
    "\n",
    "# split the title and year information from the title\n",
    "titles = movies['title'].str.replace(' \\([0-9]*\\)$', '', regex = True)\n",
    "years = movies['title'].str.extract(r'(\\([0-9]*\\)$)', expand = False) # regex capture group to get the suffix year appended to every movie title\n",
    "\n",
    "titles"
   ]
  },
  {
   "cell_type": "code",
   "execution_count": 103,
   "metadata": {
    "tags": [
     "outputPrepend"
    ]
   },
   "outputs": [
    {
     "output_type": "execute_result",
     "data": {
      "text/plain": "0        1995\n1        1995\n2        1995\n3        1995\n4        1995\n         ... \n62418    2018\n62419    2001\n62420    2018\n62421    2001\n62422    1962\nName: title, Length: 62423, dtype: object"
     },
     "metadata": {},
     "execution_count": 103
    }
   ],
   "source": [
    "# get rid of parens around year\n",
    "years = years.str.replace('(', '', regex = True)\n",
    "years = years.str.replace(')', '', regex = True)\n",
    "\n",
    "years"
   ]
  },
  {
   "cell_type": "code",
   "execution_count": 104,
   "metadata": {},
   "outputs": [
    {
     "output_type": "execute_result",
     "data": {
      "text/plain": "412"
     },
     "metadata": {},
     "execution_count": 104
    }
   ],
   "source": [
    "# check for titles which didn't have years or in which the year wasn't extract properly\n",
    "years.isna().sum()  # there are 412 titles without years"
   ]
  },
  {
   "cell_type": "code",
   "execution_count": 107,
   "metadata": {},
   "outputs": [
    {
     "output_type": "execute_result",
     "data": {
      "text/plain": "0"
     },
     "metadata": {},
     "execution_count": 107
    }
   ],
   "source": [
    "years.str.contains('\\(').sum() + years.str.contains('\\)').sum() # there are no years that still have appended parens"
   ]
  },
  {
   "cell_type": "code",
   "execution_count": 108,
   "metadata": {
    "scrolled": true
   },
   "outputs": [
    {
     "output_type": "execute_result",
     "data": {
      "text/plain": "  movieId                        title  year  \\\n0       1                    Toy Story  1995   \n1       2                      Jumanji  1995   \n2       3             Grumpier Old Men  1995   \n3       4            Waiting to Exhale  1995   \n4       5  Father of the Bride Part II  1995   \n\n                                        genres  \n0  Adventure|Animation|Children|Comedy|Fantasy  \n1                   Adventure|Children|Fantasy  \n2                               Comedy|Romance  \n3                         Comedy|Drama|Romance  \n4                                       Comedy  ",
      "text/html": "<div>\n<style scoped>\n    .dataframe tbody tr th:only-of-type {\n        vertical-align: middle;\n    }\n\n    .dataframe tbody tr th {\n        vertical-align: top;\n    }\n\n    .dataframe thead th {\n        text-align: right;\n    }\n</style>\n<table border=\"1\" class=\"dataframe\">\n  <thead>\n    <tr style=\"text-align: right;\">\n      <th></th>\n      <th>movieId</th>\n      <th>title</th>\n      <th>year</th>\n      <th>genres</th>\n    </tr>\n  </thead>\n  <tbody>\n    <tr>\n      <th>0</th>\n      <td>1</td>\n      <td>Toy Story</td>\n      <td>1995</td>\n      <td>Adventure|Animation|Children|Comedy|Fantasy</td>\n    </tr>\n    <tr>\n      <th>1</th>\n      <td>2</td>\n      <td>Jumanji</td>\n      <td>1995</td>\n      <td>Adventure|Children|Fantasy</td>\n    </tr>\n    <tr>\n      <th>2</th>\n      <td>3</td>\n      <td>Grumpier Old Men</td>\n      <td>1995</td>\n      <td>Comedy|Romance</td>\n    </tr>\n    <tr>\n      <th>3</th>\n      <td>4</td>\n      <td>Waiting to Exhale</td>\n      <td>1995</td>\n      <td>Comedy|Drama|Romance</td>\n    </tr>\n    <tr>\n      <th>4</th>\n      <td>5</td>\n      <td>Father of the Bride Part II</td>\n      <td>1995</td>\n      <td>Comedy</td>\n    </tr>\n  </tbody>\n</table>\n</div>"
     },
     "metadata": {},
     "execution_count": 108
    }
   ],
   "source": [
    "# put titles and years columns from above into movies dataframe\n",
    "movies.title = titles\n",
    "movies['year'] = years\n",
    "\n",
    "# remove the trailing spaces in entire dataframe\n",
    "movies = movies.applymap(lambda x: str(x).rstrip())\n",
    "\n",
    "# get the \", The\" at the end of movies[title] and append to front\n",
    "movies.loc[movies['title'].str.contains(', The$'),'title'] = 'The ' + movies['title']\n",
    "movies['title'] = movies['title'].str.replace(', The$', '', regex = True)\n",
    "movies['title'] = movies['title'].str.replace(',The$', '', regex = True)\n",
    "\n",
    "# remove the trailing spaces in entire dataframe\n",
    "movies = movies.applymap(lambda x: str(x).rstrip())\n",
    "\n",
    "# rearrange columns\n",
    "movies = movies[['movieId', 'title', 'year', 'genres']]\n",
    "\n",
    "movies.head()"
   ]
  },
  {
   "cell_type": "code",
   "execution_count": 109,
   "metadata": {},
   "outputs": [
    {
     "output_type": "execute_result",
     "data": {
      "text/plain": "       movieId       title   year genres\ncount    62423       62423  62423  62423\nunique   62423       58158    136   1639\ntop     126586  Cinderella   2015  Drama\nfreq         1          16   2513   9056",
      "text/html": "<div>\n<style scoped>\n    .dataframe tbody tr th:only-of-type {\n        vertical-align: middle;\n    }\n\n    .dataframe tbody tr th {\n        vertical-align: top;\n    }\n\n    .dataframe thead th {\n        text-align: right;\n    }\n</style>\n<table border=\"1\" class=\"dataframe\">\n  <thead>\n    <tr style=\"text-align: right;\">\n      <th></th>\n      <th>movieId</th>\n      <th>title</th>\n      <th>year</th>\n      <th>genres</th>\n    </tr>\n  </thead>\n  <tbody>\n    <tr>\n      <th>count</th>\n      <td>62423</td>\n      <td>62423</td>\n      <td>62423</td>\n      <td>62423</td>\n    </tr>\n    <tr>\n      <th>unique</th>\n      <td>62423</td>\n      <td>58158</td>\n      <td>136</td>\n      <td>1639</td>\n    </tr>\n    <tr>\n      <th>top</th>\n      <td>126586</td>\n      <td>Cinderella</td>\n      <td>2015</td>\n      <td>Drama</td>\n    </tr>\n    <tr>\n      <th>freq</th>\n      <td>1</td>\n      <td>16</td>\n      <td>2513</td>\n      <td>9056</td>\n    </tr>\n  </tbody>\n</table>\n</div>"
     },
     "metadata": {},
     "execution_count": 109
    }
   ],
   "source": [
    "movies.describe()"
   ]
  },
  {
   "cell_type": "code",
   "execution_count": 116,
   "metadata": {},
   "outputs": [
    {
     "output_type": "execute_result",
     "data": {
      "text/plain": "   movieId                        title  year  \\\n0        1                    Toy Story  1995   \n1        2                      Jumanji  1995   \n2        3             Grumpier Old Men  1995   \n3        4            Waiting to Exhale  1995   \n4        5  Father of the Bride Part II  1995   \n\n                                        genres  \n0  Adventure|Animation|Children|Comedy|Fantasy  \n1                   Adventure|Children|Fantasy  \n2                               Comedy|Romance  \n3                         Comedy|Drama|Romance  \n4                                       Comedy  ",
      "text/html": "<div>\n<style scoped>\n    .dataframe tbody tr th:only-of-type {\n        vertical-align: middle;\n    }\n\n    .dataframe tbody tr th {\n        vertical-align: top;\n    }\n\n    .dataframe thead th {\n        text-align: right;\n    }\n</style>\n<table border=\"1\" class=\"dataframe\">\n  <thead>\n    <tr style=\"text-align: right;\">\n      <th></th>\n      <th>movieId</th>\n      <th>title</th>\n      <th>year</th>\n      <th>genres</th>\n    </tr>\n  </thead>\n  <tbody>\n    <tr>\n      <th>0</th>\n      <td>1</td>\n      <td>Toy Story</td>\n      <td>1995</td>\n      <td>Adventure|Animation|Children|Comedy|Fantasy</td>\n    </tr>\n    <tr>\n      <th>1</th>\n      <td>2</td>\n      <td>Jumanji</td>\n      <td>1995</td>\n      <td>Adventure|Children|Fantasy</td>\n    </tr>\n    <tr>\n      <th>2</th>\n      <td>3</td>\n      <td>Grumpier Old Men</td>\n      <td>1995</td>\n      <td>Comedy|Romance</td>\n    </tr>\n    <tr>\n      <th>3</th>\n      <td>4</td>\n      <td>Waiting to Exhale</td>\n      <td>1995</td>\n      <td>Comedy|Drama|Romance</td>\n    </tr>\n    <tr>\n      <th>4</th>\n      <td>5</td>\n      <td>Father of the Bride Part II</td>\n      <td>1995</td>\n      <td>Comedy</td>\n    </tr>\n  </tbody>\n</table>\n</div>"
     },
     "metadata": {},
     "execution_count": 116
    }
   ],
   "source": [
    "movies.head()"
   ]
  },
  {
   "cell_type": "code",
   "execution_count": 117,
   "metadata": {},
   "outputs": [
    {
     "output_type": "execute_result",
     "data": {
      "text/plain": "412"
     },
     "metadata": {},
     "execution_count": 117
    }
   ],
   "source": [
    "# movies.isna() # this won't give NA values because the year has been changed to a string and the NaN becomes 'nan' string\n",
    "movies.year.str.contains('nan').sum() # here are the 412 movies that don't have years"
   ]
  },
  {
   "cell_type": "code",
   "execution_count": 119,
   "metadata": {},
   "outputs": [
    {
     "output_type": "execute_result",
     "data": {
      "text/plain": "0"
     },
     "metadata": {},
     "execution_count": 119
    }
   ],
   "source": [
    "# drop the rows where the year is not provided because we need it to join with the nicolas cage movie dataset\n",
    "# get names of indices where column year has value 'nan'\n",
    "ind = movies[movies.year == 'nan'].index\n",
    "\n",
    "# delete these row indices from movies dataframe\n",
    "movies.drop(ind, inplace = True)\n",
    "\n",
    "movies.year.str.contains('nan').sum() # returns 0 - successful!"
   ]
  },
  {
   "cell_type": "code",
   "execution_count": 120,
   "metadata": {},
   "outputs": [
    {
     "output_type": "execute_result",
     "data": {
      "text/plain": "movieId     int64\ntitle      object\nyear        int64\ngenres     object\ndtype: object"
     },
     "metadata": {},
     "execution_count": 120
    }
   ],
   "source": [
    "# set types for movies columns\n",
    "movies.movieId = movies.movieId.astype(int)\n",
    "movies.year = movies.year.astype(int)\n",
    "\n",
    "movies.dtypes"
   ]
  },
  {
   "cell_type": "code",
   "execution_count": 121,
   "metadata": {},
   "outputs": [
    {
     "output_type": "execute_result",
     "data": {
      "text/plain": "                                movie rating        character  voice_flag  \\\n0                   A Score to Settle     NR     Frank Pierce           0   \n1   Spider-Man: Into the Spider-Verse     PG  Spider-Man Noir           1   \n2                      Between Worlds      R              Joe           0   \n3       Teen Titans Go! To the Movies     PG         Superman           1   \n4                                 211      R    Mike Chandler           0   \n..                                ...    ...              ...         ...   \n86               Racing with the Moon     PG            Nicky           0   \n87                        Rumble Fish      R           Smokey           0   \n88                        Valley Girl      R            Randy           0   \n89       Fast Times at Ridgemont High      R       Brad's Bud           0   \n90                  The Best of Times  TV-NR         Nicholas           0   \n\n    year rottentomatoes  \n0   2019             13  \n1   2018             97  \n2   2018              X  \n3   2018             91  \n4   2018              5  \n..   ...            ...  \n86  1984             60  \n87  1983             70  \n88  1983             82  \n89  1982             78  \n90  1981              X  \n\n[91 rows x 6 columns]",
      "text/html": "<div>\n<style scoped>\n    .dataframe tbody tr th:only-of-type {\n        vertical-align: middle;\n    }\n\n    .dataframe tbody tr th {\n        vertical-align: top;\n    }\n\n    .dataframe thead th {\n        text-align: right;\n    }\n</style>\n<table border=\"1\" class=\"dataframe\">\n  <thead>\n    <tr style=\"text-align: right;\">\n      <th></th>\n      <th>movie</th>\n      <th>rating</th>\n      <th>character</th>\n      <th>voice_flag</th>\n      <th>year</th>\n      <th>rottentomatoes</th>\n    </tr>\n  </thead>\n  <tbody>\n    <tr>\n      <th>0</th>\n      <td>A Score to Settle</td>\n      <td>NR</td>\n      <td>Frank Pierce</td>\n      <td>0</td>\n      <td>2019</td>\n      <td>13</td>\n    </tr>\n    <tr>\n      <th>1</th>\n      <td>Spider-Man: Into the Spider-Verse</td>\n      <td>PG</td>\n      <td>Spider-Man Noir</td>\n      <td>1</td>\n      <td>2018</td>\n      <td>97</td>\n    </tr>\n    <tr>\n      <th>2</th>\n      <td>Between Worlds</td>\n      <td>R</td>\n      <td>Joe</td>\n      <td>0</td>\n      <td>2018</td>\n      <td>X</td>\n    </tr>\n    <tr>\n      <th>3</th>\n      <td>Teen Titans Go! To the Movies</td>\n      <td>PG</td>\n      <td>Superman</td>\n      <td>1</td>\n      <td>2018</td>\n      <td>91</td>\n    </tr>\n    <tr>\n      <th>4</th>\n      <td>211</td>\n      <td>R</td>\n      <td>Mike Chandler</td>\n      <td>0</td>\n      <td>2018</td>\n      <td>5</td>\n    </tr>\n    <tr>\n      <th>...</th>\n      <td>...</td>\n      <td>...</td>\n      <td>...</td>\n      <td>...</td>\n      <td>...</td>\n      <td>...</td>\n    </tr>\n    <tr>\n      <th>86</th>\n      <td>Racing with the Moon</td>\n      <td>PG</td>\n      <td>Nicky</td>\n      <td>0</td>\n      <td>1984</td>\n      <td>60</td>\n    </tr>\n    <tr>\n      <th>87</th>\n      <td>Rumble Fish</td>\n      <td>R</td>\n      <td>Smokey</td>\n      <td>0</td>\n      <td>1983</td>\n      <td>70</td>\n    </tr>\n    <tr>\n      <th>88</th>\n      <td>Valley Girl</td>\n      <td>R</td>\n      <td>Randy</td>\n      <td>0</td>\n      <td>1983</td>\n      <td>82</td>\n    </tr>\n    <tr>\n      <th>89</th>\n      <td>Fast Times at Ridgemont High</td>\n      <td>R</td>\n      <td>Brad's Bud</td>\n      <td>0</td>\n      <td>1982</td>\n      <td>78</td>\n    </tr>\n    <tr>\n      <th>90</th>\n      <td>The Best of Times</td>\n      <td>TV-NR</td>\n      <td>Nicholas</td>\n      <td>0</td>\n      <td>1981</td>\n      <td>X</td>\n    </tr>\n  </tbody>\n</table>\n<p>91 rows × 6 columns</p>\n</div>"
     },
     "metadata": {},
     "execution_count": 121
    }
   ],
   "source": [
    "# rename the cage_movies columns to lowercase\n",
    "cage_movies = cage_movies.rename(columns = {'Movie': 'movie', 'Rating': 'rating', 'Character': 'character', 'Voice': 'voice_flag', 'Year': 'year', 'RottenTomatoes': 'rottentomatoes'})\n",
    "\n",
    "# \"Sorcerer's Apprentice\" is misspelled 'Sorceror'\n",
    "cage_movies['movie'] = cage_movies['movie'].str.replace('Sorceror', 'Sorcerer')\n",
    "\n",
    "# Remove period from \"Adaption.\"\n",
    "cage_movies['movie'] = cage_movies['movie'].str.replace('Adaptation.', 'Adaptation', regex = False)\n",
    "\n",
    "# \"Gone in 60 Seconds\" is spelled out 'Sixty' in cage_movies\n",
    "cage_movies['movie'] = cage_movies['movie'].str.replace('Sixty', '60')\n",
    "\n",
    "# \"Amos & Andrew\" is spelled \"Amos and Andrew\" in cage_movies\n",
    "cage_movies['movie'] = cage_movies['movie'].str.replace('Amos and', 'Amos &')\n",
    "\n",
    "# \"Time to Kill\" needs the Italian suffix in cage_movies\n",
    "cage_movies['movie'] = cage_movies['movie'].str.replace('Time to Kill', 'Time to Kill (Tempo di uccidere)')\n",
    "\n",
    "# \"Best of Times\" needs 'The ' prefixed in cage_movies\n",
    "cage_movies['movie'] = cage_movies['movie'].str.replace('Best of Times', 'The Best of Times')\n",
    "\n",
    "cage_movies"
   ]
  },
  {
   "cell_type": "code",
   "execution_count": 122,
   "metadata": {},
   "outputs": [
    {
     "output_type": "execute_result",
     "data": {
      "text/plain": "       voice_flag         year\ncount   91.000000    91.000000\nmean     0.076923  2003.296703\nstd      0.267946    11.280755\nmin      0.000000  1981.000000\n25%      0.000000  1994.000000\n50%      0.000000  2006.000000\n75%      0.000000  2013.500000\nmax      1.000000  2019.000000",
      "text/html": "<div>\n<style scoped>\n    .dataframe tbody tr th:only-of-type {\n        vertical-align: middle;\n    }\n\n    .dataframe tbody tr th {\n        vertical-align: top;\n    }\n\n    .dataframe thead th {\n        text-align: right;\n    }\n</style>\n<table border=\"1\" class=\"dataframe\">\n  <thead>\n    <tr style=\"text-align: right;\">\n      <th></th>\n      <th>voice_flag</th>\n      <th>year</th>\n    </tr>\n  </thead>\n  <tbody>\n    <tr>\n      <th>count</th>\n      <td>91.000000</td>\n      <td>91.000000</td>\n    </tr>\n    <tr>\n      <th>mean</th>\n      <td>0.076923</td>\n      <td>2003.296703</td>\n    </tr>\n    <tr>\n      <th>std</th>\n      <td>0.267946</td>\n      <td>11.280755</td>\n    </tr>\n    <tr>\n      <th>min</th>\n      <td>0.000000</td>\n      <td>1981.000000</td>\n    </tr>\n    <tr>\n      <th>25%</th>\n      <td>0.000000</td>\n      <td>1994.000000</td>\n    </tr>\n    <tr>\n      <th>50%</th>\n      <td>0.000000</td>\n      <td>2006.000000</td>\n    </tr>\n    <tr>\n      <th>75%</th>\n      <td>0.000000</td>\n      <td>2013.500000</td>\n    </tr>\n    <tr>\n      <th>max</th>\n      <td>1.000000</td>\n      <td>2019.000000</td>\n    </tr>\n  </tbody>\n</table>\n</div>"
     },
     "metadata": {},
     "execution_count": 122
    }
   ],
   "source": [
    "cage_movies.describe()"
   ]
  },
  {
   "cell_type": "code",
   "execution_count": 123,
   "metadata": {},
   "outputs": [
    {
     "output_type": "execute_result",
     "data": {
      "text/plain": "2                                        Between Worlds\n10                              Vengeance: A Love Story\n74    Industrial Symphony No. 1: The Dream of the Br...\n77                     Time to Kill (Tempo di uccidere)\n78                                     Never on Tuesday\n83                                      The Boy in Blue\n90                                    The Best of Times\nName: movie, dtype: object"
     },
     "metadata": {},
     "execution_count": 123
    }
   ],
   "source": [
    "# cage_movies.RottenTomatoes = cage_movies.RottenTomatoes.astype(int) - Returns error because there are RottenTomatoes ratings that are labeled 'X'\n",
    "\n",
    "# return a list of movies that have incorrect RottenTomatoes rankings\n",
    "cage_movies[cage_movies.rottentomatoes == 'X'].movie.drop_duplicates()"
   ]
  },
  {
   "cell_type": "code",
   "execution_count": 124,
   "metadata": {},
   "outputs": [
    {
     "output_type": "execute_result",
     "data": {
      "text/plain": "78    Never on Tuesday\nName: movie, dtype: object"
     },
     "metadata": {},
     "execution_count": 124
    }
   ],
   "source": [
    "# manually fix the RottenTomatoes rankings for the titles that have them\n",
    "cage_movies.loc[cage_movies['movie'] == 'Between Worlds', 'rottentomatoes'] = 29\n",
    "\n",
    "# so this is dangerous, but i want to include this movie because it's so fucking bonkers\n",
    "cage_movies.loc[cage_movies['movie'] == 'The Best of Times', 'rottentomatoes'] = -1\n",
    "\n",
    "# had to resort to audience score for this one because critics didn't rate it (travesty)\n",
    "cage_movies.loc[cage_movies['movie'] == 'Time to Kill (Tempo di uccidere)', 'rottentomatoes'] = 23\n",
    "\n",
    "# also dangerous but it was an avante-garde musical play directed by DAVID LYNCH\n",
    "cage_movies.loc[cage_movies['movie'].str.contains('Industrial Symphony No. 1: The Dream of'), 'rottentomatoes'] = -1\n",
    "\n",
    "# had to resort to audience score\n",
    "cage_movies.loc[cage_movies['movie'] == 'Vengeance: A Love Story', 'rottentomatoes'] = 28\n",
    "\n",
    "# audience score\n",
    "cage_movies.loc[cage_movies['movie'] == 'The Boy in Blue', 'rottentomatoes'] = 45\n",
    "\n",
    "# check to see if it took\n",
    "cage_movies[cage_movies.rottentomatoes == 'X'].movie.drop_duplicates()"
   ]
  },
  {
   "cell_type": "code",
   "execution_count": 125,
   "metadata": {},
   "outputs": [],
   "source": [
    "# left join the movie information to the cage_movies dataset using title as key\n",
    "cage_movies.movie = cage_movies.movie.astype(str)\n",
    "movies.title = movies.title.astype(str)\n",
    "\n",
    "# left join the movie information to the cage_movies dataset using title as key\n",
    "cage = pd.merge(cage_movies, movies, left_on = ['movie', 'year'], right_on = ['title', 'year'], how = 'left')"
   ]
  },
  {
   "cell_type": "code",
   "execution_count": 126,
   "metadata": {},
   "outputs": [
    {
     "output_type": "stream",
     "name": "stdout",
     "text": "movie rating                     character  \\\n27  Ghost Rider: Spirit of Vengeance  PG-13  Johnny Blaze and Ghost Rider   \n53                 A Christmas Carol     PG                        Marley   \n70                     Red Rock West      R                       Michael   \n78                  Never on Tuesday      R         Man in Red Sports Car   \n79                    Vampire's Kiss      R                    Peter Loew   \n90                 The Best of Times  TV-NR                      Nicholas   \n\n    voice_flag  year rottentomatoes  movieId title genres  \n27           0  2011             18      NaN   NaN    NaN  \n53           1  2001             17      NaN   NaN    NaN  \n70           0  1993             95      NaN   NaN    NaN  \n78           0  1989              X      NaN   NaN    NaN  \n79           0  1988             61      NaN   NaN    NaN  \n90           0  1981             -1      NaN   NaN    NaN  \n"
    }
   ],
   "source": [
    "# check for NaN values\n",
    "print(cage[cage.isnull().any(axis=1)])"
   ]
  },
  {
   "cell_type": "code",
   "execution_count": 23,
   "metadata": {},
   "outputs": [
    {
     "output_type": "error",
     "ename": "KeyError",
     "evalue": "\"['title' 'title_trimmed'] not found in axis\"",
     "traceback": [
      "\u001b[0;31m---------------------------------------------------------------------------\u001b[0m",
      "\u001b[0;31mKeyError\u001b[0m                                  Traceback (most recent call last)",
      "\u001b[0;32m<ipython-input-23-f8299041c9c7>\u001b[0m in \u001b[0;36m<module>\u001b[0;34m\u001b[0m\n\u001b[1;32m      1\u001b[0m \u001b[0;31m# Never on Tuesday is NA but it isn't included in the movies dataset so delete it from entire dataset\u001b[0m\u001b[0;34m\u001b[0m\u001b[0;34m\u001b[0m\u001b[0;34m\u001b[0m\u001b[0m\n\u001b[1;32m      2\u001b[0m \u001b[0mcage\u001b[0m \u001b[0;34m=\u001b[0m \u001b[0mcage\u001b[0m\u001b[0;34m.\u001b[0m\u001b[0mdropna\u001b[0m\u001b[0;34m(\u001b[0m\u001b[0;34m)\u001b[0m\u001b[0;34m\u001b[0m\u001b[0;34m\u001b[0m\u001b[0m\n\u001b[0;32m----> 3\u001b[0;31m \u001b[0mcage\u001b[0m \u001b[0;34m=\u001b[0m \u001b[0mcage\u001b[0m\u001b[0;34m.\u001b[0m\u001b[0mdrop\u001b[0m\u001b[0;34m(\u001b[0m\u001b[0mcolumns\u001b[0m \u001b[0;34m=\u001b[0m \u001b[0;34m[\u001b[0m\u001b[0;34m'title'\u001b[0m\u001b[0;34m,\u001b[0m \u001b[0;34m'title_trimmed'\u001b[0m\u001b[0;34m]\u001b[0m\u001b[0;34m)\u001b[0m\u001b[0;34m\u001b[0m\u001b[0;34m\u001b[0m\u001b[0m\n\u001b[0m\u001b[1;32m      4\u001b[0m \u001b[0;34m\u001b[0m\u001b[0m\n\u001b[1;32m      5\u001b[0m \u001b[0mprint\u001b[0m\u001b[0;34m(\u001b[0m\u001b[0mcage\u001b[0m\u001b[0;34m[\u001b[0m\u001b[0mcage\u001b[0m\u001b[0;34m.\u001b[0m\u001b[0misnull\u001b[0m\u001b[0;34m(\u001b[0m\u001b[0;34m)\u001b[0m\u001b[0;34m.\u001b[0m\u001b[0many\u001b[0m\u001b[0;34m(\u001b[0m\u001b[0maxis\u001b[0m\u001b[0;34m=\u001b[0m\u001b[0;36m1\u001b[0m\u001b[0;34m)\u001b[0m\u001b[0;34m]\u001b[0m\u001b[0;34m)\u001b[0m\u001b[0;34m\u001b[0m\u001b[0;34m\u001b[0m\u001b[0m\n",
      "\u001b[0;32m~/opt/anaconda3/lib/python3.7/site-packages/pandas/core/frame.py\u001b[0m in \u001b[0;36mdrop\u001b[0;34m(self, labels, axis, index, columns, level, inplace, errors)\u001b[0m\n\u001b[1;32m   3992\u001b[0m             \u001b[0mlevel\u001b[0m\u001b[0;34m=\u001b[0m\u001b[0mlevel\u001b[0m\u001b[0;34m,\u001b[0m\u001b[0;34m\u001b[0m\u001b[0;34m\u001b[0m\u001b[0m\n\u001b[1;32m   3993\u001b[0m             \u001b[0minplace\u001b[0m\u001b[0;34m=\u001b[0m\u001b[0minplace\u001b[0m\u001b[0;34m,\u001b[0m\u001b[0;34m\u001b[0m\u001b[0;34m\u001b[0m\u001b[0m\n\u001b[0;32m-> 3994\u001b[0;31m             \u001b[0merrors\u001b[0m\u001b[0;34m=\u001b[0m\u001b[0merrors\u001b[0m\u001b[0;34m,\u001b[0m\u001b[0;34m\u001b[0m\u001b[0;34m\u001b[0m\u001b[0m\n\u001b[0m\u001b[1;32m   3995\u001b[0m         )\n\u001b[1;32m   3996\u001b[0m \u001b[0;34m\u001b[0m\u001b[0m\n",
      "\u001b[0;32m~/opt/anaconda3/lib/python3.7/site-packages/pandas/core/generic.py\u001b[0m in \u001b[0;36mdrop\u001b[0;34m(self, labels, axis, index, columns, level, inplace, errors)\u001b[0m\n\u001b[1;32m   3933\u001b[0m         \u001b[0;32mfor\u001b[0m \u001b[0maxis\u001b[0m\u001b[0;34m,\u001b[0m \u001b[0mlabels\u001b[0m \u001b[0;32min\u001b[0m \u001b[0maxes\u001b[0m\u001b[0;34m.\u001b[0m\u001b[0mitems\u001b[0m\u001b[0;34m(\u001b[0m\u001b[0;34m)\u001b[0m\u001b[0;34m:\u001b[0m\u001b[0;34m\u001b[0m\u001b[0;34m\u001b[0m\u001b[0m\n\u001b[1;32m   3934\u001b[0m             \u001b[0;32mif\u001b[0m \u001b[0mlabels\u001b[0m \u001b[0;32mis\u001b[0m \u001b[0;32mnot\u001b[0m \u001b[0;32mNone\u001b[0m\u001b[0;34m:\u001b[0m\u001b[0;34m\u001b[0m\u001b[0;34m\u001b[0m\u001b[0m\n\u001b[0;32m-> 3935\u001b[0;31m                 \u001b[0mobj\u001b[0m \u001b[0;34m=\u001b[0m \u001b[0mobj\u001b[0m\u001b[0;34m.\u001b[0m\u001b[0m_drop_axis\u001b[0m\u001b[0;34m(\u001b[0m\u001b[0mlabels\u001b[0m\u001b[0;34m,\u001b[0m \u001b[0maxis\u001b[0m\u001b[0;34m,\u001b[0m \u001b[0mlevel\u001b[0m\u001b[0;34m=\u001b[0m\u001b[0mlevel\u001b[0m\u001b[0;34m,\u001b[0m \u001b[0merrors\u001b[0m\u001b[0;34m=\u001b[0m\u001b[0merrors\u001b[0m\u001b[0;34m)\u001b[0m\u001b[0;34m\u001b[0m\u001b[0;34m\u001b[0m\u001b[0m\n\u001b[0m\u001b[1;32m   3936\u001b[0m \u001b[0;34m\u001b[0m\u001b[0m\n\u001b[1;32m   3937\u001b[0m         \u001b[0;32mif\u001b[0m \u001b[0minplace\u001b[0m\u001b[0;34m:\u001b[0m\u001b[0;34m\u001b[0m\u001b[0;34m\u001b[0m\u001b[0m\n",
      "\u001b[0;32m~/opt/anaconda3/lib/python3.7/site-packages/pandas/core/generic.py\u001b[0m in \u001b[0;36m_drop_axis\u001b[0;34m(self, labels, axis, level, errors)\u001b[0m\n\u001b[1;32m   3967\u001b[0m                 \u001b[0mnew_axis\u001b[0m \u001b[0;34m=\u001b[0m \u001b[0maxis\u001b[0m\u001b[0;34m.\u001b[0m\u001b[0mdrop\u001b[0m\u001b[0;34m(\u001b[0m\u001b[0mlabels\u001b[0m\u001b[0;34m,\u001b[0m \u001b[0mlevel\u001b[0m\u001b[0;34m=\u001b[0m\u001b[0mlevel\u001b[0m\u001b[0;34m,\u001b[0m \u001b[0merrors\u001b[0m\u001b[0;34m=\u001b[0m\u001b[0merrors\u001b[0m\u001b[0;34m)\u001b[0m\u001b[0;34m\u001b[0m\u001b[0;34m\u001b[0m\u001b[0m\n\u001b[1;32m   3968\u001b[0m             \u001b[0;32melse\u001b[0m\u001b[0;34m:\u001b[0m\u001b[0;34m\u001b[0m\u001b[0;34m\u001b[0m\u001b[0m\n\u001b[0;32m-> 3969\u001b[0;31m                 \u001b[0mnew_axis\u001b[0m \u001b[0;34m=\u001b[0m \u001b[0maxis\u001b[0m\u001b[0;34m.\u001b[0m\u001b[0mdrop\u001b[0m\u001b[0;34m(\u001b[0m\u001b[0mlabels\u001b[0m\u001b[0;34m,\u001b[0m \u001b[0merrors\u001b[0m\u001b[0;34m=\u001b[0m\u001b[0merrors\u001b[0m\u001b[0;34m)\u001b[0m\u001b[0;34m\u001b[0m\u001b[0;34m\u001b[0m\u001b[0m\n\u001b[0m\u001b[1;32m   3970\u001b[0m             \u001b[0mresult\u001b[0m \u001b[0;34m=\u001b[0m \u001b[0mself\u001b[0m\u001b[0;34m.\u001b[0m\u001b[0mreindex\u001b[0m\u001b[0;34m(\u001b[0m\u001b[0;34m**\u001b[0m\u001b[0;34m{\u001b[0m\u001b[0maxis_name\u001b[0m\u001b[0;34m:\u001b[0m \u001b[0mnew_axis\u001b[0m\u001b[0;34m}\u001b[0m\u001b[0;34m)\u001b[0m\u001b[0;34m\u001b[0m\u001b[0;34m\u001b[0m\u001b[0m\n\u001b[1;32m   3971\u001b[0m \u001b[0;34m\u001b[0m\u001b[0m\n",
      "\u001b[0;32m~/opt/anaconda3/lib/python3.7/site-packages/pandas/core/indexes/base.py\u001b[0m in \u001b[0;36mdrop\u001b[0;34m(self, labels, errors)\u001b[0m\n\u001b[1;32m   5016\u001b[0m         \u001b[0;32mif\u001b[0m \u001b[0mmask\u001b[0m\u001b[0;34m.\u001b[0m\u001b[0many\u001b[0m\u001b[0;34m(\u001b[0m\u001b[0;34m)\u001b[0m\u001b[0;34m:\u001b[0m\u001b[0;34m\u001b[0m\u001b[0;34m\u001b[0m\u001b[0m\n\u001b[1;32m   5017\u001b[0m             \u001b[0;32mif\u001b[0m \u001b[0merrors\u001b[0m \u001b[0;34m!=\u001b[0m \u001b[0;34m\"ignore\"\u001b[0m\u001b[0;34m:\u001b[0m\u001b[0;34m\u001b[0m\u001b[0;34m\u001b[0m\u001b[0m\n\u001b[0;32m-> 5018\u001b[0;31m                 \u001b[0;32mraise\u001b[0m \u001b[0mKeyError\u001b[0m\u001b[0;34m(\u001b[0m\u001b[0;34mf\"{labels[mask]} not found in axis\"\u001b[0m\u001b[0;34m)\u001b[0m\u001b[0;34m\u001b[0m\u001b[0;34m\u001b[0m\u001b[0m\n\u001b[0m\u001b[1;32m   5019\u001b[0m             \u001b[0mindexer\u001b[0m \u001b[0;34m=\u001b[0m \u001b[0mindexer\u001b[0m\u001b[0;34m[\u001b[0m\u001b[0;34m~\u001b[0m\u001b[0mmask\u001b[0m\u001b[0;34m]\u001b[0m\u001b[0;34m\u001b[0m\u001b[0;34m\u001b[0m\u001b[0m\n\u001b[1;32m   5020\u001b[0m         \u001b[0;32mreturn\u001b[0m \u001b[0mself\u001b[0m\u001b[0;34m.\u001b[0m\u001b[0mdelete\u001b[0m\u001b[0;34m(\u001b[0m\u001b[0mindexer\u001b[0m\u001b[0;34m)\u001b[0m\u001b[0;34m\u001b[0m\u001b[0;34m\u001b[0m\u001b[0m\n",
      "\u001b[0;31mKeyError\u001b[0m: \"['title' 'title_trimmed'] not found in axis\""
     ]
    }
   ],
   "source": [
    "# Never on Tuesday is NA but it isn't included in the movies dataset so delete it from entire dataset\n",
    "cage = cage.dropna()\n",
    "cage = cage.drop(columns = ['title', 'title_trimmed'])\n",
    "\n",
    "print(cage[cage.isnull().any(axis=1)])"
   ]
  },
  {
   "cell_type": "code",
   "execution_count": 28,
   "metadata": {},
   "outputs": [
    {
     "output_type": "execute_result",
     "data": {
      "text/plain": "  movieId                              movie  year rating        character  \\\n0  204656                  A Score to Settle  2019     NR     Frank Pierce   \n1  195159  Spider-Man: Into the Spider-Verse  2018     PG  Spider-Man Noir   \n2  194991                     Between Worlds  2018      R              Joe   \n3  191687      Teen Titans Go! To the Movies  2018     PG         Superman   \n4  187713                                211  2018      R    Mike Chandler   \n\n   voice_flag rottentomatoes                             genres  \n0           0             13              Action|Drama|Thriller  \n1           1             97  Action|Adventure|Animation|Sci-Fi  \n2           0             29            Action|Mystery|Thriller  \n3           1             91                 Animation|Children  \n4           0              5                 (no genres listed)  ",
      "text/html": "<div>\n<style scoped>\n    .dataframe tbody tr th:only-of-type {\n        vertical-align: middle;\n    }\n\n    .dataframe tbody tr th {\n        vertical-align: top;\n    }\n\n    .dataframe thead th {\n        text-align: right;\n    }\n</style>\n<table border=\"1\" class=\"dataframe\">\n  <thead>\n    <tr style=\"text-align: right;\">\n      <th></th>\n      <th>movieId</th>\n      <th>movie</th>\n      <th>year</th>\n      <th>rating</th>\n      <th>character</th>\n      <th>voice_flag</th>\n      <th>rottentomatoes</th>\n      <th>genres</th>\n    </tr>\n  </thead>\n  <tbody>\n    <tr>\n      <th>0</th>\n      <td>204656</td>\n      <td>A Score to Settle</td>\n      <td>2019</td>\n      <td>NR</td>\n      <td>Frank Pierce</td>\n      <td>0</td>\n      <td>13</td>\n      <td>Action|Drama|Thriller</td>\n    </tr>\n    <tr>\n      <th>1</th>\n      <td>195159</td>\n      <td>Spider-Man: Into the Spider-Verse</td>\n      <td>2018</td>\n      <td>PG</td>\n      <td>Spider-Man Noir</td>\n      <td>1</td>\n      <td>97</td>\n      <td>Action|Adventure|Animation|Sci-Fi</td>\n    </tr>\n    <tr>\n      <th>2</th>\n      <td>194991</td>\n      <td>Between Worlds</td>\n      <td>2018</td>\n      <td>R</td>\n      <td>Joe</td>\n      <td>0</td>\n      <td>29</td>\n      <td>Action|Mystery|Thriller</td>\n    </tr>\n    <tr>\n      <th>3</th>\n      <td>191687</td>\n      <td>Teen Titans Go! To the Movies</td>\n      <td>2018</td>\n      <td>PG</td>\n      <td>Superman</td>\n      <td>1</td>\n      <td>91</td>\n      <td>Animation|Children</td>\n    </tr>\n    <tr>\n      <th>4</th>\n      <td>187713</td>\n      <td>211</td>\n      <td>2018</td>\n      <td>R</td>\n      <td>Mike Chandler</td>\n      <td>0</td>\n      <td>5</td>\n      <td>(no genres listed)</td>\n    </tr>\n  </tbody>\n</table>\n</div>"
     },
     "metadata": {},
     "execution_count": 28
    }
   ],
   "source": [
    "# rearrange columns\n",
    "cage = cage[['movieId', 'movie', 'year', 'rating', 'character', 'voice_flag', 'rottentomatoes', 'genres']]\n",
    "cage.head()"
   ]
  },
  {
   "cell_type": "code",
   "execution_count": 29,
   "metadata": {},
   "outputs": [
    {
     "output_type": "execute_result",
     "data": {
      "text/plain": "              year  voice_flag\ncount   111.000000  111.000000\nmean   2004.504505    0.072072\nstd      10.898602    0.259780\nmin    1981.000000    0.000000\n25%    1995.000000    0.000000\n50%    2007.000000    0.000000\n75%    2014.000000    0.000000\nmax    2019.000000    1.000000",
      "text/html": "<div>\n<style scoped>\n    .dataframe tbody tr th:only-of-type {\n        vertical-align: middle;\n    }\n\n    .dataframe tbody tr th {\n        vertical-align: top;\n    }\n\n    .dataframe thead th {\n        text-align: right;\n    }\n</style>\n<table border=\"1\" class=\"dataframe\">\n  <thead>\n    <tr style=\"text-align: right;\">\n      <th></th>\n      <th>year</th>\n      <th>voice_flag</th>\n    </tr>\n  </thead>\n  <tbody>\n    <tr>\n      <th>count</th>\n      <td>111.000000</td>\n      <td>111.000000</td>\n    </tr>\n    <tr>\n      <th>mean</th>\n      <td>2004.504505</td>\n      <td>0.072072</td>\n    </tr>\n    <tr>\n      <th>std</th>\n      <td>10.898602</td>\n      <td>0.259780</td>\n    </tr>\n    <tr>\n      <th>min</th>\n      <td>1981.000000</td>\n      <td>0.000000</td>\n    </tr>\n    <tr>\n      <th>25%</th>\n      <td>1995.000000</td>\n      <td>0.000000</td>\n    </tr>\n    <tr>\n      <th>50%</th>\n      <td>2007.000000</td>\n      <td>0.000000</td>\n    </tr>\n    <tr>\n      <th>75%</th>\n      <td>2014.000000</td>\n      <td>0.000000</td>\n    </tr>\n    <tr>\n      <th>max</th>\n      <td>2019.000000</td>\n      <td>1.000000</td>\n    </tr>\n  </tbody>\n</table>\n</div>"
     },
     "metadata": {},
     "execution_count": 29
    }
   ],
   "source": [
    "cage.describe()\n",
    "# uh oh the count increased to 111"
   ]
  },
  {
   "cell_type": "code",
   "execution_count": 34,
   "metadata": {},
   "outputs": [
    {
     "output_type": "execute_result",
     "data": {
      "text/plain": "    movieId                              movie  year rating        character  \\\n0    204656                  A Score to Settle  2019     NR     Frank Pierce   \n1    195159  Spider-Man: Into the Spider-Verse  2018     PG  Spider-Man Noir   \n2    194991                     Between Worlds  2018      R              Joe   \n3    191687      Teen Titans Go! To the Movies  2018     PG         Superman   \n4    187713                                211  2018      R    Mike Chandler   \n..      ...                                ...   ...    ...              ...   \n107   26521               Racing with the Moon  1984     PG            Nicky   \n108   26485                        Rumble Fish  1983      R           Smokey   \n109    6638                        Valley Girl  1983      R            Randy   \n110    3210       Fast Times at Ridgemont High  1982      R       Brad's Bud   \n111   26566                  The Best of Times  1981  TV-NR         Nicholas   \n\n     voice_flag rottentomatoes                             genres  \n0             0             13              Action|Drama|Thriller  \n1             1             97  Action|Adventure|Animation|Sci-Fi  \n2             0             29            Action|Mystery|Thriller  \n3             1             91                 Animation|Children  \n4             0              5                 (no genres listed)  \n..          ...            ...                                ...  \n107           0             60               Comedy|Drama|Romance  \n108           0             70                              Drama  \n109           0             82                     Comedy|Romance  \n110           0             78               Comedy|Drama|Romance  \n111           0             -1                       Comedy|Drama  \n\n[111 rows x 8 columns]",
      "text/html": "<div>\n<style scoped>\n    .dataframe tbody tr th:only-of-type {\n        vertical-align: middle;\n    }\n\n    .dataframe tbody tr th {\n        vertical-align: top;\n    }\n\n    .dataframe thead th {\n        text-align: right;\n    }\n</style>\n<table border=\"1\" class=\"dataframe\">\n  <thead>\n    <tr style=\"text-align: right;\">\n      <th></th>\n      <th>movieId</th>\n      <th>movie</th>\n      <th>year</th>\n      <th>rating</th>\n      <th>character</th>\n      <th>voice_flag</th>\n      <th>rottentomatoes</th>\n      <th>genres</th>\n    </tr>\n  </thead>\n  <tbody>\n    <tr>\n      <th>0</th>\n      <td>204656</td>\n      <td>A Score to Settle</td>\n      <td>2019</td>\n      <td>NR</td>\n      <td>Frank Pierce</td>\n      <td>0</td>\n      <td>13</td>\n      <td>Action|Drama|Thriller</td>\n    </tr>\n    <tr>\n      <th>1</th>\n      <td>195159</td>\n      <td>Spider-Man: Into the Spider-Verse</td>\n      <td>2018</td>\n      <td>PG</td>\n      <td>Spider-Man Noir</td>\n      <td>1</td>\n      <td>97</td>\n      <td>Action|Adventure|Animation|Sci-Fi</td>\n    </tr>\n    <tr>\n      <th>2</th>\n      <td>194991</td>\n      <td>Between Worlds</td>\n      <td>2018</td>\n      <td>R</td>\n      <td>Joe</td>\n      <td>0</td>\n      <td>29</td>\n      <td>Action|Mystery|Thriller</td>\n    </tr>\n    <tr>\n      <th>3</th>\n      <td>191687</td>\n      <td>Teen Titans Go! To the Movies</td>\n      <td>2018</td>\n      <td>PG</td>\n      <td>Superman</td>\n      <td>1</td>\n      <td>91</td>\n      <td>Animation|Children</td>\n    </tr>\n    <tr>\n      <th>4</th>\n      <td>187713</td>\n      <td>211</td>\n      <td>2018</td>\n      <td>R</td>\n      <td>Mike Chandler</td>\n      <td>0</td>\n      <td>5</td>\n      <td>(no genres listed)</td>\n    </tr>\n    <tr>\n      <th>...</th>\n      <td>...</td>\n      <td>...</td>\n      <td>...</td>\n      <td>...</td>\n      <td>...</td>\n      <td>...</td>\n      <td>...</td>\n      <td>...</td>\n    </tr>\n    <tr>\n      <th>107</th>\n      <td>26521</td>\n      <td>Racing with the Moon</td>\n      <td>1984</td>\n      <td>PG</td>\n      <td>Nicky</td>\n      <td>0</td>\n      <td>60</td>\n      <td>Comedy|Drama|Romance</td>\n    </tr>\n    <tr>\n      <th>108</th>\n      <td>26485</td>\n      <td>Rumble Fish</td>\n      <td>1983</td>\n      <td>R</td>\n      <td>Smokey</td>\n      <td>0</td>\n      <td>70</td>\n      <td>Drama</td>\n    </tr>\n    <tr>\n      <th>109</th>\n      <td>6638</td>\n      <td>Valley Girl</td>\n      <td>1983</td>\n      <td>R</td>\n      <td>Randy</td>\n      <td>0</td>\n      <td>82</td>\n      <td>Comedy|Romance</td>\n    </tr>\n    <tr>\n      <th>110</th>\n      <td>3210</td>\n      <td>Fast Times at Ridgemont High</td>\n      <td>1982</td>\n      <td>R</td>\n      <td>Brad's Bud</td>\n      <td>0</td>\n      <td>78</td>\n      <td>Comedy|Drama|Romance</td>\n    </tr>\n    <tr>\n      <th>111</th>\n      <td>26566</td>\n      <td>The Best of Times</td>\n      <td>1981</td>\n      <td>TV-NR</td>\n      <td>Nicholas</td>\n      <td>0</td>\n      <td>-1</td>\n      <td>Comedy|Drama</td>\n    </tr>\n  </tbody>\n</table>\n<p>111 rows × 8 columns</p>\n</div>"
     },
     "metadata": {},
     "execution_count": 34
    }
   ],
   "source": [
    "# see what the duplicates are for the movies\n",
    "cage.drop_duplicates()"
   ]
  },
  {
   "cell_type": "code",
   "execution_count": 48,
   "metadata": {},
   "outputs": [
    {
     "output_type": "execute_result",
     "data": {
      "text/plain": "Movie             object\nRating            object\nCharacter         object\nVoice              int64\nYear               int64\nRottenTomatoes     int64\nmovieId            int64\ngenres            object\ndtype: object"
     },
     "metadata": {},
     "execution_count": 48
    }
   ],
   "source": [
    "# set and double check types\n",
    "cage.movieId = cage.movieId.astype(int)\n",
    "cage.rottentomatoes = cage.rottentomatoes.astype(int)\n",
    "cage.dtypes"
   ]
  },
  {
   "cell_type": "code",
   "execution_count": 74,
   "metadata": {},
   "outputs": [],
   "source": [
    "# export cage to csv\n",
    "path = '/Users/Kevin/cage-search/data/cleaned/cage_movies.csv'\n",
    "cage.to_csv(path, index = False)"
   ]
  },
  {
   "cell_type": "markdown",
   "metadata": {},
   "source": [
    "## create genres dataset with each movie and associated movie"
   ]
  },
  {
   "cell_type": "code",
   "execution_count": 57,
   "metadata": {},
   "outputs": [
    {
     "output_type": "execute_result",
     "data": {
      "text/plain": "0                     Action|Drama|Thriller\n1         Action|Adventure|Animation|Sci-Fi\n2                   Action|Mystery|Thriller\n3                        Animation|Children\n4                        (no genres listed)\n                       ...                 \n85                             Comedy|Crime\n93                           Comedy|Romance\n97     Crime|Drama|Mystery|Romance|Thriller\n100                   Comedy|Fantasy|Horror\n106                           Crime|Musical\nName: genres, Length: 63, dtype: object"
     },
     "metadata": {},
     "execution_count": 57
    }
   ],
   "source": [
    "cage.genres.drop_duplicates()"
   ]
  },
  {
   "cell_type": "code",
   "execution_count": 70,
   "metadata": {},
   "outputs": [
    {
     "output_type": "execute_result",
     "data": {
      "text/plain": "movieId   \n204656   0       Action\n         1        Drama\n         2     Thriller\n195159   0       Action\n         1    Adventure\n                ...    \n3210     0       Comedy\n         1        Drama\n         2      Romance\n26566    0       Comedy\n         1        Drama\nLength: 277, dtype: object"
     },
     "metadata": {},
     "execution_count": 70
    }
   ],
   "source": [
    "# split the genres up by the pipe delimiter and stack them using movieId as the index\n",
    "genres = pd.DataFrame(cage.genres.str.split('|').tolist(), index = cage.movieId).stack()\n",
    "genres"
   ]
  },
  {
   "cell_type": "code",
   "execution_count": 71,
   "metadata": {},
   "outputs": [
    {
     "output_type": "execute_result",
     "data": {
      "text/plain": "     movieId          0\n0     204656     Action\n1     204656      Drama\n2     204656   Thriller\n3     195159     Action\n4     195159  Adventure\n..       ...        ...\n272     3210     Comedy\n273     3210      Drama\n274     3210    Romance\n275    26566     Comedy\n276    26566      Drama\n\n[277 rows x 2 columns]",
      "text/html": "<div>\n<style scoped>\n    .dataframe tbody tr th:only-of-type {\n        vertical-align: middle;\n    }\n\n    .dataframe tbody tr th {\n        vertical-align: top;\n    }\n\n    .dataframe thead th {\n        text-align: right;\n    }\n</style>\n<table border=\"1\" class=\"dataframe\">\n  <thead>\n    <tr style=\"text-align: right;\">\n      <th></th>\n      <th>movieId</th>\n      <th>0</th>\n    </tr>\n  </thead>\n  <tbody>\n    <tr>\n      <th>0</th>\n      <td>204656</td>\n      <td>Action</td>\n    </tr>\n    <tr>\n      <th>1</th>\n      <td>204656</td>\n      <td>Drama</td>\n    </tr>\n    <tr>\n      <th>2</th>\n      <td>204656</td>\n      <td>Thriller</td>\n    </tr>\n    <tr>\n      <th>3</th>\n      <td>195159</td>\n      <td>Action</td>\n    </tr>\n    <tr>\n      <th>4</th>\n      <td>195159</td>\n      <td>Adventure</td>\n    </tr>\n    <tr>\n      <th>...</th>\n      <td>...</td>\n      <td>...</td>\n    </tr>\n    <tr>\n      <th>272</th>\n      <td>3210</td>\n      <td>Comedy</td>\n    </tr>\n    <tr>\n      <th>273</th>\n      <td>3210</td>\n      <td>Drama</td>\n    </tr>\n    <tr>\n      <th>274</th>\n      <td>3210</td>\n      <td>Romance</td>\n    </tr>\n    <tr>\n      <th>275</th>\n      <td>26566</td>\n      <td>Comedy</td>\n    </tr>\n    <tr>\n      <th>276</th>\n      <td>26566</td>\n      <td>Drama</td>\n    </tr>\n  </tbody>\n</table>\n<p>277 rows × 2 columns</p>\n</div>"
     },
     "metadata": {},
     "execution_count": 71
    }
   ],
   "source": [
    "# get rid of the secondary index (which is essentially counting the number of genres per movieId)\n",
    "genres = genres.reset_index([0, 'movieId'])\n",
    "genres"
   ]
  },
  {
   "cell_type": "code",
   "execution_count": 72,
   "metadata": {},
   "outputs": [
    {
     "output_type": "execute_result",
     "data": {
      "text/plain": "     movieId      genre                              Movie\n0     204656     Action                  A Score to Settle\n1     204656      Drama                  A Score to Settle\n2     204656   Thriller                  A Score to Settle\n3     195159     Action  Spider-Man: Into the Spider-Verse\n4     195159  Adventure  Spider-Man: Into the Spider-Verse\n..       ...        ...                                ...\n272     3210     Comedy       Fast Times at Ridgemont High\n273     3210      Drama       Fast Times at Ridgemont High\n274     3210    Romance       Fast Times at Ridgemont High\n275    26566     Comedy                  The Best of Times\n276    26566      Drama                  The Best of Times\n\n[277 rows x 3 columns]",
      "text/html": "<div>\n<style scoped>\n    .dataframe tbody tr th:only-of-type {\n        vertical-align: middle;\n    }\n\n    .dataframe tbody tr th {\n        vertical-align: top;\n    }\n\n    .dataframe thead th {\n        text-align: right;\n    }\n</style>\n<table border=\"1\" class=\"dataframe\">\n  <thead>\n    <tr style=\"text-align: right;\">\n      <th></th>\n      <th>movieId</th>\n      <th>genre</th>\n      <th>Movie</th>\n    </tr>\n  </thead>\n  <tbody>\n    <tr>\n      <th>0</th>\n      <td>204656</td>\n      <td>Action</td>\n      <td>A Score to Settle</td>\n    </tr>\n    <tr>\n      <th>1</th>\n      <td>204656</td>\n      <td>Drama</td>\n      <td>A Score to Settle</td>\n    </tr>\n    <tr>\n      <th>2</th>\n      <td>204656</td>\n      <td>Thriller</td>\n      <td>A Score to Settle</td>\n    </tr>\n    <tr>\n      <th>3</th>\n      <td>195159</td>\n      <td>Action</td>\n      <td>Spider-Man: Into the Spider-Verse</td>\n    </tr>\n    <tr>\n      <th>4</th>\n      <td>195159</td>\n      <td>Adventure</td>\n      <td>Spider-Man: Into the Spider-Verse</td>\n    </tr>\n    <tr>\n      <th>...</th>\n      <td>...</td>\n      <td>...</td>\n      <td>...</td>\n    </tr>\n    <tr>\n      <th>272</th>\n      <td>3210</td>\n      <td>Comedy</td>\n      <td>Fast Times at Ridgemont High</td>\n    </tr>\n    <tr>\n      <th>273</th>\n      <td>3210</td>\n      <td>Drama</td>\n      <td>Fast Times at Ridgemont High</td>\n    </tr>\n    <tr>\n      <th>274</th>\n      <td>3210</td>\n      <td>Romance</td>\n      <td>Fast Times at Ridgemont High</td>\n    </tr>\n    <tr>\n      <th>275</th>\n      <td>26566</td>\n      <td>Comedy</td>\n      <td>The Best of Times</td>\n    </tr>\n    <tr>\n      <th>276</th>\n      <td>26566</td>\n      <td>Drama</td>\n      <td>The Best of Times</td>\n    </tr>\n  </tbody>\n</table>\n<p>277 rows × 3 columns</p>\n</div>"
     },
     "metadata": {},
     "execution_count": 72
    }
   ],
   "source": [
    "# rename the genres columns, set their types, and get the movie title form the cage dataset defined above\n",
    "genres.columns = ['movieId', 'genre']\n",
    "genres = pd.merge(genres, cage[['movieId', 'movie']], on = 'movieId', how = 'left')\n",
    "genres"
   ]
  },
  {
   "cell_type": "code",
   "execution_count": 73,
   "metadata": {},
   "outputs": [],
   "source": [
    "# export genres to csv\n",
    "path = '/Users/Kevin/cage-search/data/cleaned/cage_genres.csv'\n",
    "genres.to_csv(path, index = False)"
   ]
  },
  {
   "cell_type": "markdown",
   "metadata": {},
   "source": [
    "## create ratings dataset with rating, userId, associated movie"
   ]
  },
  {
   "cell_type": "code",
   "execution_count": 82,
   "metadata": {},
   "outputs": [
    {
     "output_type": "execute_result",
     "data": {
      "text/plain": "(262762, 4)"
     },
     "metadata": {},
     "execution_count": 82
    }
   ],
   "source": [
    "# filter ratings to only cage movies by merging with cage df\n",
    "ratings.shape #(25,000,095, 4)\n",
    "keys = list(cage['movieId'].values) # create list of Cage movieId\n",
    "cage_ratings = ratings[ratings.movieId.isin(keys)] # filter to only cage movies\n",
    "cage_ratings.shape #(262,762, 4)"
   ]
  },
  {
   "cell_type": "code",
   "execution_count": 83,
   "metadata": {},
   "outputs": [
    {
     "output_type": "execute_result",
     "data": {
      "text/plain": "     userId  movieId  rating   timestamp\n95        2      733     4.5  1141415905\n191       2     4023     3.0  1141417651\n369       3     4023     4.0  1439473162\n487       3     6708     4.0  1566090171\n572       3    36529     4.0  1453904094",
      "text/html": "<div>\n<style scoped>\n    .dataframe tbody tr th:only-of-type {\n        vertical-align: middle;\n    }\n\n    .dataframe tbody tr th {\n        vertical-align: top;\n    }\n\n    .dataframe thead th {\n        text-align: right;\n    }\n</style>\n<table border=\"1\" class=\"dataframe\">\n  <thead>\n    <tr style=\"text-align: right;\">\n      <th></th>\n      <th>userId</th>\n      <th>movieId</th>\n      <th>rating</th>\n      <th>timestamp</th>\n    </tr>\n  </thead>\n  <tbody>\n    <tr>\n      <th>95</th>\n      <td>2</td>\n      <td>733</td>\n      <td>4.5</td>\n      <td>1141415905</td>\n    </tr>\n    <tr>\n      <th>191</th>\n      <td>2</td>\n      <td>4023</td>\n      <td>3.0</td>\n      <td>1141417651</td>\n    </tr>\n    <tr>\n      <th>369</th>\n      <td>3</td>\n      <td>4023</td>\n      <td>4.0</td>\n      <td>1439473162</td>\n    </tr>\n    <tr>\n      <th>487</th>\n      <td>3</td>\n      <td>6708</td>\n      <td>4.0</td>\n      <td>1566090171</td>\n    </tr>\n    <tr>\n      <th>572</th>\n      <td>3</td>\n      <td>36529</td>\n      <td>4.0</td>\n      <td>1453904094</td>\n    </tr>\n  </tbody>\n</table>\n</div>"
     },
     "metadata": {},
     "execution_count": 83
    }
   ],
   "source": [
    "ratings_cage.head()"
   ]
  },
  {
   "cell_type": "code",
   "execution_count": 84,
   "metadata": {},
   "outputs": [
    {
     "output_type": "execute_result",
     "data": {
      "text/plain": "   userId  movieId  rating           Movie  RottenTomatoes\n0       2      733     4.5        The Rock              66\n1       2     4023     3.0  The Family Man              53\n2       3     4023     4.0  The Family Man              53\n3       3     6708     4.0  Matchstick Men              82\n4       3    36529     4.0     Lord of War              62",
      "text/html": "<div>\n<style scoped>\n    .dataframe tbody tr th:only-of-type {\n        vertical-align: middle;\n    }\n\n    .dataframe tbody tr th {\n        vertical-align: top;\n    }\n\n    .dataframe thead th {\n        text-align: right;\n    }\n</style>\n<table border=\"1\" class=\"dataframe\">\n  <thead>\n    <tr style=\"text-align: right;\">\n      <th></th>\n      <th>userId</th>\n      <th>movieId</th>\n      <th>rating</th>\n      <th>Movie</th>\n      <th>RottenTomatoes</th>\n    </tr>\n  </thead>\n  <tbody>\n    <tr>\n      <th>0</th>\n      <td>2</td>\n      <td>733</td>\n      <td>4.5</td>\n      <td>The Rock</td>\n      <td>66</td>\n    </tr>\n    <tr>\n      <th>1</th>\n      <td>2</td>\n      <td>4023</td>\n      <td>3.0</td>\n      <td>The Family Man</td>\n      <td>53</td>\n    </tr>\n    <tr>\n      <th>2</th>\n      <td>3</td>\n      <td>4023</td>\n      <td>4.0</td>\n      <td>The Family Man</td>\n      <td>53</td>\n    </tr>\n    <tr>\n      <th>3</th>\n      <td>3</td>\n      <td>6708</td>\n      <td>4.0</td>\n      <td>Matchstick Men</td>\n      <td>82</td>\n    </tr>\n    <tr>\n      <th>4</th>\n      <td>3</td>\n      <td>36529</td>\n      <td>4.0</td>\n      <td>Lord of War</td>\n      <td>62</td>\n    </tr>\n  </tbody>\n</table>\n</div>"
     },
     "metadata": {},
     "execution_count": 84
    }
   ],
   "source": [
    "# change movieId to int in case\n",
    "cage_ratings.movieId = cage_ratings.movieId.astype(int)\n",
    "\n",
    "# import the names of movies to cage_ratings\n",
    "cage_ratings = pd.merge(cage_ratings, cage[['movieId','movie', 'rottentomatoes']], on = 'movieId', how = 'left')\n",
    "\n",
    "# drop the timestamp column (for now)\n",
    "cage_ratings = cage_ratings.drop(columns = ['timestamp'])\n",
    "\n",
    "cage_ratings.head()"
   ]
  },
  {
   "cell_type": "code",
   "execution_count": 85,
   "metadata": {},
   "outputs": [
    {
     "output_type": "execute_result",
     "data": {
      "text/plain": "userId              int64\nmovieId             int64\nrating            float64\nMovie              object\nRottenTomatoes      int64\ndtype: object"
     },
     "metadata": {},
     "execution_count": 85
    }
   ],
   "source": [
    "# double check dtypes\n",
    "cage_ratings.dtypes"
   ]
  },
  {
   "cell_type": "code",
   "execution_count": 87,
   "metadata": {},
   "outputs": [],
   "source": [
    "# export cage ratings to csv\n",
    "path = '/Users/Kevin/cage-search/data/cleaned/cage_ratings.csv'\n",
    "cage_ratings.to_csv(path, index = False)"
   ]
  },
  {
   "cell_type": "markdown",
   "metadata": {},
   "source": [
    "## Explore and merge the genome datasets"
   ]
  },
  {
   "cell_type": "code",
   "execution_count": 37,
   "metadata": {},
   "outputs": [
    {
     "output_type": "execute_result",
     "data": {
      "text/plain": "   tagId           tag\n0      1           007\n1      2  007 (series)\n2      3  18th century\n3      4         1920s\n4      5         1930s",
      "text/html": "<div>\n<style scoped>\n    .dataframe tbody tr th:only-of-type {\n        vertical-align: middle;\n    }\n\n    .dataframe tbody tr th {\n        vertical-align: top;\n    }\n\n    .dataframe thead th {\n        text-align: right;\n    }\n</style>\n<table border=\"1\" class=\"dataframe\">\n  <thead>\n    <tr style=\"text-align: right;\">\n      <th></th>\n      <th>tagId</th>\n      <th>tag</th>\n    </tr>\n  </thead>\n  <tbody>\n    <tr>\n      <th>0</th>\n      <td>1</td>\n      <td>007</td>\n    </tr>\n    <tr>\n      <th>1</th>\n      <td>2</td>\n      <td>007 (series)</td>\n    </tr>\n    <tr>\n      <th>2</th>\n      <td>3</td>\n      <td>18th century</td>\n    </tr>\n    <tr>\n      <th>3</th>\n      <td>4</td>\n      <td>1920s</td>\n    </tr>\n    <tr>\n      <th>4</th>\n      <td>5</td>\n      <td>1930s</td>\n    </tr>\n  </tbody>\n</table>\n</div>"
     },
     "metadata": {},
     "execution_count": 37
    }
   ],
   "source": [
    "genome_tags.head()"
   ]
  },
  {
   "cell_type": "code",
   "execution_count": 38,
   "metadata": {},
   "outputs": [
    {
     "output_type": "execute_result",
     "data": {
      "text/plain": "   movieId  tagId  relevance\n0        1      1    0.02875\n1        1      2    0.02375\n2        1      3    0.06250\n3        1      4    0.07575\n4        1      5    0.14075",
      "text/html": "<div>\n<style scoped>\n    .dataframe tbody tr th:only-of-type {\n        vertical-align: middle;\n    }\n\n    .dataframe tbody tr th {\n        vertical-align: top;\n    }\n\n    .dataframe thead th {\n        text-align: right;\n    }\n</style>\n<table border=\"1\" class=\"dataframe\">\n  <thead>\n    <tr style=\"text-align: right;\">\n      <th></th>\n      <th>movieId</th>\n      <th>tagId</th>\n      <th>relevance</th>\n    </tr>\n  </thead>\n  <tbody>\n    <tr>\n      <th>0</th>\n      <td>1</td>\n      <td>1</td>\n      <td>0.02875</td>\n    </tr>\n    <tr>\n      <th>1</th>\n      <td>1</td>\n      <td>2</td>\n      <td>0.02375</td>\n    </tr>\n    <tr>\n      <th>2</th>\n      <td>1</td>\n      <td>3</td>\n      <td>0.06250</td>\n    </tr>\n    <tr>\n      <th>3</th>\n      <td>1</td>\n      <td>4</td>\n      <td>0.07575</td>\n    </tr>\n    <tr>\n      <th>4</th>\n      <td>1</td>\n      <td>5</td>\n      <td>0.14075</td>\n    </tr>\n  </tbody>\n</table>\n</div>"
     },
     "metadata": {},
     "execution_count": 38
    }
   ],
   "source": [
    "genome_scores.head()"
   ]
  },
  {
   "cell_type": "code",
   "execution_count": 92,
   "metadata": {},
   "outputs": [],
   "source": [
    "# change column types to predictable types - may be unnecessary\n",
    "genome_scores.movieId = genome_scores.movieId.astype(int)\n",
    "genome_scores.tagId = genome_scores.tagId.astype(int)\n",
    "genome_tags.tagId = genome_tags.tagId.astype(int)\n",
    "genome_tags.tag = genome_tags.tag.astype(str)\n",
    "\n",
    "# rename the tags column as genome_tags not to get mixed up with tags column from tags.csv\n",
    "genome_tags = genome_tags.rename(columns ={\"tag\": \"genome_tag\"})\n",
    "\n",
    "# merge cage with genome_scores to get associated genome_tags\n",
    "cage_genome = pd.merge(cage[['movieId', 'movie']], genome_scores, on = 'movieId', how = 'inner')\n",
    "\n",
    "# merge with genome_tags to get tag descriptors\n",
    "cage_genome = pd.merge(cage_genome, genome_tags[['tagId', 'genome_tag']], on = 'tagId', how = 'inner')\n",
    "\n",
    "# rearrange columns to have relevance at the end\n",
    "cage_genome = cage_genome[['movieId', 'movie', 'tagId', 'genome_tag', 'relevance']]\n",
    "\n",
    "cage_genome"
   ]
  },
  {
   "cell_type": "code",
   "execution_count": 98,
   "metadata": {},
   "outputs": [
    {
     "output_type": "execute_result",
     "data": {
      "text/plain": "       movieId                               Movie  tagId        genome_tag  \\\n35587    84942                         Drive Angry    457        goretastic   \n81393     8972                   National Treasure   1044     treasure hunt   \n17464     1394                     Raising Arizona    224         coen bros   \n8378     51077                         Ghost Rider    108  based on a comic   \n81383    56775  National Treasure: Book of Secrets   1044     treasure hunt   \n69870     6992                       Guarding Tess    896    secret service   \n76940    51077                         Ghost Rider    987        super hero   \n14398     3717                  Gone in 60 Seconds    185              cars   \n48115     7044                       Wild at Heart    617             lynch   \n77086    76251                            Kick-Ass    989         superhero   \n\n       relevance  \n35587    1.00000  \n81393    0.99975  \n17464    0.99950  \n8378     0.99925  \n81383    0.99925  \n69870    0.99900  \n76940    0.99850  \n14398    0.99825  \n48115    0.99825  \n77086    0.99800  ",
      "text/html": "<div>\n<style scoped>\n    .dataframe tbody tr th:only-of-type {\n        vertical-align: middle;\n    }\n\n    .dataframe tbody tr th {\n        vertical-align: top;\n    }\n\n    .dataframe thead th {\n        text-align: right;\n    }\n</style>\n<table border=\"1\" class=\"dataframe\">\n  <thead>\n    <tr style=\"text-align: right;\">\n      <th></th>\n      <th>movieId</th>\n      <th>Movie</th>\n      <th>tagId</th>\n      <th>genome_tag</th>\n      <th>relevance</th>\n    </tr>\n  </thead>\n  <tbody>\n    <tr>\n      <th>35587</th>\n      <td>84942</td>\n      <td>Drive Angry</td>\n      <td>457</td>\n      <td>goretastic</td>\n      <td>1.00000</td>\n    </tr>\n    <tr>\n      <th>81393</th>\n      <td>8972</td>\n      <td>National Treasure</td>\n      <td>1044</td>\n      <td>treasure hunt</td>\n      <td>0.99975</td>\n    </tr>\n    <tr>\n      <th>17464</th>\n      <td>1394</td>\n      <td>Raising Arizona</td>\n      <td>224</td>\n      <td>coen bros</td>\n      <td>0.99950</td>\n    </tr>\n    <tr>\n      <th>8378</th>\n      <td>51077</td>\n      <td>Ghost Rider</td>\n      <td>108</td>\n      <td>based on a comic</td>\n      <td>0.99925</td>\n    </tr>\n    <tr>\n      <th>81383</th>\n      <td>56775</td>\n      <td>National Treasure: Book of Secrets</td>\n      <td>1044</td>\n      <td>treasure hunt</td>\n      <td>0.99925</td>\n    </tr>\n    <tr>\n      <th>69870</th>\n      <td>6992</td>\n      <td>Guarding Tess</td>\n      <td>896</td>\n      <td>secret service</td>\n      <td>0.99900</td>\n    </tr>\n    <tr>\n      <th>76940</th>\n      <td>51077</td>\n      <td>Ghost Rider</td>\n      <td>987</td>\n      <td>super hero</td>\n      <td>0.99850</td>\n    </tr>\n    <tr>\n      <th>14398</th>\n      <td>3717</td>\n      <td>Gone in 60 Seconds</td>\n      <td>185</td>\n      <td>cars</td>\n      <td>0.99825</td>\n    </tr>\n    <tr>\n      <th>48115</th>\n      <td>7044</td>\n      <td>Wild at Heart</td>\n      <td>617</td>\n      <td>lynch</td>\n      <td>0.99825</td>\n    </tr>\n    <tr>\n      <th>77086</th>\n      <td>76251</td>\n      <td>Kick-Ass</td>\n      <td>989</td>\n      <td>superhero</td>\n      <td>0.99800</td>\n    </tr>\n  </tbody>\n</table>\n</div>"
     },
     "metadata": {},
     "execution_count": 98
    }
   ],
   "source": [
    "# check the largest values for relevance to see if they match up well with the movies\n",
    "cage_genome.nlargest(10, 'relevance') # looks pretty accurate"
   ]
  },
  {
   "cell_type": "code",
   "execution_count": 100,
   "metadata": {},
   "outputs": [],
   "source": [
    "# export cage_genome to csv\n",
    "path = '/Users/Kevin/cage-search/data/cleaned/cage_genome.csv'\n",
    "cage_genome.to_csv(path, index = False)"
   ]
  },
  {
   "cell_type": "markdown",
   "metadata": {},
   "source": [
    "## create user tags dataset"
   ]
  },
  {
   "cell_type": "code",
   "execution_count": 101,
   "metadata": {},
   "outputs": [
    {
     "output_type": "execute_result",
     "data": {
      "text/plain": "   userId  movieId               tag   timestamp\n0       3      260           classic  1439472355\n1       3      260            sci-fi  1439472256\n2       4     1732       dark comedy  1573943598\n3       4     1732    great dialogue  1573943604\n4       4     7569  so bad it's good  1573943455",
      "text/html": "<div>\n<style scoped>\n    .dataframe tbody tr th:only-of-type {\n        vertical-align: middle;\n    }\n\n    .dataframe tbody tr th {\n        vertical-align: top;\n    }\n\n    .dataframe thead th {\n        text-align: right;\n    }\n</style>\n<table border=\"1\" class=\"dataframe\">\n  <thead>\n    <tr style=\"text-align: right;\">\n      <th></th>\n      <th>userId</th>\n      <th>movieId</th>\n      <th>tag</th>\n      <th>timestamp</th>\n    </tr>\n  </thead>\n  <tbody>\n    <tr>\n      <th>0</th>\n      <td>3</td>\n      <td>260</td>\n      <td>classic</td>\n      <td>1439472355</td>\n    </tr>\n    <tr>\n      <th>1</th>\n      <td>3</td>\n      <td>260</td>\n      <td>sci-fi</td>\n      <td>1439472256</td>\n    </tr>\n    <tr>\n      <th>2</th>\n      <td>4</td>\n      <td>1732</td>\n      <td>dark comedy</td>\n      <td>1573943598</td>\n    </tr>\n    <tr>\n      <th>3</th>\n      <td>4</td>\n      <td>1732</td>\n      <td>great dialogue</td>\n      <td>1573943604</td>\n    </tr>\n    <tr>\n      <th>4</th>\n      <td>4</td>\n      <td>7569</td>\n      <td>so bad it's good</td>\n      <td>1573943455</td>\n    </tr>\n  </tbody>\n</table>\n</div>"
     },
     "metadata": {},
     "execution_count": 101
    }
   ],
   "source": [
    "tags.head()"
   ]
  },
  {
   "cell_type": "code",
   "execution_count": null,
   "metadata": {},
   "outputs": [],
   "source": [
    "# drop the timestamp column for now\n",
    "tags = tags.drop(columns = ['timestamp'])\n",
    "\n",
    "tags = pd.merge(tags, cage_movies[['movieId', 'movie']], on = 'movieId')"
   ]
  }
 ],
 "metadata": {
  "kernelspec": {
   "display_name": "Python 3",
   "language": "python",
   "name": "python3"
  },
  "language_info": {
   "codemirror_mode": {
    "name": "ipython",
    "version": 3
   },
   "file_extension": ".py",
   "mimetype": "text/x-python",
   "name": "python",
   "nbconvert_exporter": "python",
   "pygments_lexer": "ipython3",
   "version": "3.7.5-final"
  }
 },
 "nbformat": 4,
 "nbformat_minor": 4
}